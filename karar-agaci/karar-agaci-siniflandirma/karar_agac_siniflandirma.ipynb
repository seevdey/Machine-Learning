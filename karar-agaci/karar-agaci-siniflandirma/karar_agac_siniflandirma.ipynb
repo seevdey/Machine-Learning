{
 "cells": [
  {
   "cell_type": "code",
   "execution_count": 2,
   "id": "28c7cdd6",
   "metadata": {},
   "outputs": [],
   "source": [
    "#DİABETES veri seti ile KARAR AĞACI ÖRNEĞİ"
   ]
  },
  {
   "cell_type": "code",
   "execution_count": 34,
   "id": "a924e8c3",
   "metadata": {},
   "outputs": [],
   "source": [
    "import pandas as pd\n",
    "import numpy as np\n",
    "import statsmodels.api as sm\n",
    "import statsmodels.formula.api as smf\n",
    "#import seaborn as sns\n",
    "from sklearn.preprocessing import scale\n",
    "from sklearn.model_selection import train_test_split, GridSearchCV, cross_val_score\n",
    "from sklearn.metrics import confusion_matrix, accuracy_score, classification_report\n",
    "from sklearn.metrics import roc_auc_score, roc_curve\n",
    "import matplotlib.pyplot as plt\n",
    "from sklearn.neighbors import KNeighborsClassifier\n",
    "from sklearn.discriminant_analysis import LinearDiscriminantAnalysis\n",
    "from sklearn.linear_model import LogisticRegression\n",
    "from sklearn.tree import DecisionTreeClassifier, DecisionTreeRegressor\n",
    "from sklearn.svm import SVC\n",
    "from sklearn.naive_bayes import GaussianNB\n",
    "from sklearn import tree\n",
    "from sklearn.ensemble import RandomForestClassifier\n",
    "from sklearn.ensemble import GradientBoostingClassifier"
   ]
  },
  {
   "cell_type": "code",
   "execution_count": 35,
   "id": "5591757a",
   "metadata": {},
   "outputs": [],
   "source": [
    "seker = pd.read_csv(\"diabetes.csv\")\n",
    "df= seker.copy()"
   ]
  },
  {
   "cell_type": "code",
   "execution_count": 36,
   "id": "06138aaa",
   "metadata": {},
   "outputs": [],
   "source": [
    "#df.head()"
   ]
  },
  {
   "cell_type": "code",
   "execution_count": null,
   "id": "4d82c63a",
   "metadata": {},
   "outputs": [],
   "source": []
  },
  {
   "cell_type": "code",
   "execution_count": 37,
   "id": "63a7b8ba",
   "metadata": {},
   "outputs": [
    {
     "data": {
      "text/plain": [
       "(768, 9)"
      ]
     },
     "execution_count": 37,
     "metadata": {},
     "output_type": "execute_result"
    }
   ],
   "source": [
    "df.shape"
   ]
  },
  {
   "cell_type": "code",
   "execution_count": 38,
   "id": "811a4a41",
   "metadata": {},
   "outputs": [
    {
     "data": {
      "text/html": [
       "<div>\n",
       "<style scoped>\n",
       "    .dataframe tbody tr th:only-of-type {\n",
       "        vertical-align: middle;\n",
       "    }\n",
       "\n",
       "    .dataframe tbody tr th {\n",
       "        vertical-align: top;\n",
       "    }\n",
       "\n",
       "    .dataframe thead th {\n",
       "        text-align: right;\n",
       "    }\n",
       "</style>\n",
       "<table border=\"1\" class=\"dataframe\">\n",
       "  <thead>\n",
       "    <tr style=\"text-align: right;\">\n",
       "      <th></th>\n",
       "      <th>Pregnancies</th>\n",
       "      <th>Glucose</th>\n",
       "      <th>BloodPressure</th>\n",
       "      <th>SkinThickness</th>\n",
       "      <th>Insulin</th>\n",
       "      <th>BMI</th>\n",
       "      <th>DiabetesPedigreeFunction</th>\n",
       "      <th>Age</th>\n",
       "      <th>Outcome</th>\n",
       "    </tr>\n",
       "  </thead>\n",
       "  <tbody>\n",
       "    <tr>\n",
       "      <th>0</th>\n",
       "      <td>6</td>\n",
       "      <td>148</td>\n",
       "      <td>72</td>\n",
       "      <td>35</td>\n",
       "      <td>0</td>\n",
       "      <td>33.6</td>\n",
       "      <td>0.627</td>\n",
       "      <td>50</td>\n",
       "      <td>1</td>\n",
       "    </tr>\n",
       "    <tr>\n",
       "      <th>1</th>\n",
       "      <td>1</td>\n",
       "      <td>85</td>\n",
       "      <td>66</td>\n",
       "      <td>29</td>\n",
       "      <td>0</td>\n",
       "      <td>26.6</td>\n",
       "      <td>0.351</td>\n",
       "      <td>31</td>\n",
       "      <td>0</td>\n",
       "    </tr>\n",
       "    <tr>\n",
       "      <th>2</th>\n",
       "      <td>8</td>\n",
       "      <td>183</td>\n",
       "      <td>64</td>\n",
       "      <td>0</td>\n",
       "      <td>0</td>\n",
       "      <td>23.3</td>\n",
       "      <td>0.672</td>\n",
       "      <td>32</td>\n",
       "      <td>1</td>\n",
       "    </tr>\n",
       "    <tr>\n",
       "      <th>3</th>\n",
       "      <td>1</td>\n",
       "      <td>89</td>\n",
       "      <td>66</td>\n",
       "      <td>23</td>\n",
       "      <td>94</td>\n",
       "      <td>28.1</td>\n",
       "      <td>0.167</td>\n",
       "      <td>21</td>\n",
       "      <td>0</td>\n",
       "    </tr>\n",
       "    <tr>\n",
       "      <th>4</th>\n",
       "      <td>0</td>\n",
       "      <td>137</td>\n",
       "      <td>40</td>\n",
       "      <td>35</td>\n",
       "      <td>168</td>\n",
       "      <td>43.1</td>\n",
       "      <td>2.288</td>\n",
       "      <td>33</td>\n",
       "      <td>1</td>\n",
       "    </tr>\n",
       "  </tbody>\n",
       "</table>\n",
       "</div>"
      ],
      "text/plain": [
       "   Pregnancies  Glucose  BloodPressure  SkinThickness  Insulin   BMI  \\\n",
       "0            6      148             72             35        0  33.6   \n",
       "1            1       85             66             29        0  26.6   \n",
       "2            8      183             64              0        0  23.3   \n",
       "3            1       89             66             23       94  28.1   \n",
       "4            0      137             40             35      168  43.1   \n",
       "\n",
       "   DiabetesPedigreeFunction  Age  Outcome  \n",
       "0                     0.627   50        1  \n",
       "1                     0.351   31        0  \n",
       "2                     0.672   32        1  \n",
       "3                     0.167   21        0  \n",
       "4                     2.288   33        1  "
      ]
     },
     "execution_count": 38,
     "metadata": {},
     "output_type": "execute_result"
    }
   ],
   "source": [
    "df.head()"
   ]
  },
  {
   "cell_type": "code",
   "execution_count": 39,
   "id": "6226ef1f",
   "metadata": {},
   "outputs": [
    {
     "data": {
      "text/plain": [
       "0"
      ]
     },
     "execution_count": 39,
     "metadata": {},
     "output_type": "execute_result"
    }
   ],
   "source": [
    "#df.isnull().sum()\n",
    "#sonuç olarak hiç boş değer yok\n",
    "#boş değer olsaydı eksikleri tamamlama durumunu kullanacaktık --> dropna kullanabiliriz\n",
    "df.isnull().sum().sum()"
   ]
  },
  {
   "cell_type": "code",
   "execution_count": 40,
   "id": "c4902cbc",
   "metadata": {},
   "outputs": [],
   "source": [
    "X = df.drop([\"Outcome\"], axis=1)\n",
    "#X = df[\"Pregnancies\"]\n",
    "y = df[\"Outcome\"]"
   ]
  },
  {
   "cell_type": "code",
   "execution_count": 41,
   "id": "07ff334e",
   "metadata": {},
   "outputs": [
    {
     "data": {
      "text/plain": [
       "0    1\n",
       "1    0\n",
       "2    1\n",
       "3    0\n",
       "4    1\n",
       "Name: Outcome, dtype: int64"
      ]
     },
     "execution_count": 41,
     "metadata": {},
     "output_type": "execute_result"
    }
   ],
   "source": [
    "y[0:5]"
   ]
  },
  {
   "cell_type": "code",
   "execution_count": 42,
   "id": "ff5d9386",
   "metadata": {},
   "outputs": [],
   "source": [
    "from sklearn.model_selection import train_test_split, GridSearchCV, cross_val_score"
   ]
  },
  {
   "cell_type": "code",
   "execution_count": 43,
   "id": "a8aba2de",
   "metadata": {},
   "outputs": [],
   "source": [
    " X_train, X_test, y_train, y_test = train_test_split(X, y, test_size=0.30, random_state=60)"
   ]
  },
  {
   "cell_type": "code",
   "execution_count": 44,
   "id": "7a350190",
   "metadata": {},
   "outputs": [
    {
     "data": {
      "text/plain": [
       "(537, 8)"
      ]
     },
     "execution_count": 44,
     "metadata": {},
     "output_type": "execute_result"
    }
   ],
   "source": [
    "X_train.shape"
   ]
  },
  {
   "cell_type": "code",
   "execution_count": 45,
   "id": "66abdc5e",
   "metadata": {},
   "outputs": [],
   "source": [
    "from sklearn.tree import DecisionTreeClassifier\n",
    "#DecisionTreeClassifier den nesne oluşturup fit ediyoruz"
   ]
  },
  {
   "cell_type": "code",
   "execution_count": 46,
   "id": "bbca9a85",
   "metadata": {},
   "outputs": [],
   "source": [
    "karar = DecisionTreeClassifier()\n",
    "karar_model = karar.fit(X_train, y_train)"
   ]
  },
  {
   "cell_type": "code",
   "execution_count": 47,
   "id": "8d690aa2",
   "metadata": {},
   "outputs": [
    {
     "data": {
      "text/plain": [
       "DecisionTreeClassifier()"
      ]
     },
     "execution_count": 47,
     "metadata": {},
     "output_type": "execute_result"
    }
   ],
   "source": [
    "karar_model"
   ]
  },
  {
   "cell_type": "code",
   "execution_count": 48,
   "id": "e4d7fa01",
   "metadata": {},
   "outputs": [
    {
     "data": {
      "text/plain": [
       "array([0], dtype=int64)"
      ]
     },
     "execution_count": 48,
     "metadata": {},
     "output_type": "execute_result"
    }
   ],
   "source": [
    "#--------Hamilelik durumuna göre karar ağacı çizdiriyoruz\n",
    "karar_model.predict([[0,150,66,30,90,30,0.640,70]])\n",
    "#karar_model.predict([[6,150,66,30,90,26,0.340,70]]) --> 1 olan değer"
   ]
  },
  {
   "cell_type": "code",
   "execution_count": 49,
   "id": "82744b82",
   "metadata": {},
   "outputs": [
    {
     "name": "stdout",
     "output_type": "stream",
     "text": [
      "Requirement already satisfied: skompiler in c:\\users\\sevde\\anaconda3\\envs\\deeplearning\\lib\\site-packages (0.6)\n",
      "Requirement already satisfied: scikit-learn>=0.22 in c:\\users\\sevde\\anaconda3\\envs\\deeplearning\\lib\\site-packages (from skompiler) (0.24.1)\n",
      "Requirement already satisfied: joblib>=0.11 in c:\\users\\sevde\\anaconda3\\envs\\deeplearning\\lib\\site-packages (from scikit-learn>=0.22->skompiler) (1.0.1)\n",
      "Requirement already satisfied: scipy>=0.19.1 in c:\\users\\sevde\\anaconda3\\envs\\deeplearning\\lib\\site-packages (from scikit-learn>=0.22->skompiler) (1.6.2)\n",
      "Requirement already satisfied: numpy>=1.13.3 in c:\\users\\sevde\\anaconda3\\envs\\deeplearning\\lib\\site-packages (from scikit-learn>=0.22->skompiler) (1.19.2)\n",
      "Requirement already satisfied: threadpoolctl>=2.0.0 in c:\\users\\sevde\\anaconda3\\envs\\deeplearning\\lib\\site-packages (from scikit-learn>=0.22->skompiler) (2.1.0)\n"
     ]
    }
   ],
   "source": [
    "!pip install skompiler"
   ]
  },
  {
   "cell_type": "code",
   "execution_count": 50,
   "id": "2654f5dd",
   "metadata": {},
   "outputs": [],
   "source": [
    "from skompiler import skompile\n",
    "#skompiler sayesinde ağacın kod kısmını bastırabiliyoruz"
   ]
  },
  {
   "cell_type": "code",
   "execution_count": 51,
   "id": "0eaba951",
   "metadata": {},
   "outputs": [
    {
     "name": "stdout",
     "output_type": "stream",
     "text": [
      "((((((0 if x[7] <= 28.5 else 0 if x[6] <= 0.32600000500679016 else 0 if x[1\n",
      "    ] <= 114.0 else 1) if x[0] <= 7.5 else 1) if x[5] <= 30.949999809265137\n",
      "     else ((0 if x[4] <= 87.5 else 1) if x[1] <= 111.0 else ((1 if x[2] <= \n",
      "    78.0 else 0) if x[0] <= 2.0 else 0) if x[7] <= 24.5 else 1) if x[5] <= \n",
      "    33.85000038146973 else (0 if x[2] <= 83.5 else 1) if x[6] <= \n",
      "    0.5010000169277191 else 1 if x[6] <= 0.5050000250339508 else (0 if x[2] <=\n",
      "    61.0 else (0 if x[1] <= 102.0 else 1) if x[4] <= 114.5 else 1) if x[2] <=\n",
      "    64.5 else 0) if x[5] <= 45.39999961853027 else 1) if x[7] <= 30.5 else \n",
      "    (0 if x[2] <= 94.0 else 1) if x[5] <= 26.949999809265137 else (1 if x[1\n",
      "    ] <= 28.5 else 0 if x[1] <= 89.5 else (((((0 if x[7] <= 55.0 else 1) if\n",
      "    x[5] <= 29.84999942779541 else 1 if x[3] <= 21.5 else 1 if x[7] <= 32.5\n",
      "     else 1 if x[6] <= 0.25950000435113907 else 0) if x[0] <= 7.5 else 0) if\n",
      "    x[3] <= 35.5 else 1) if x[0] <= 9.5 else 1) if x[3] <= 37.5 else 0) if \n",
      "    x[1] <= 106.5 else (((1 if x[6] <= 0.2880000025033951 else 0 if x[7] <=\n",
      "    32.5 else 1 if x[1] <= 116.5 else 0 if x[1] <= 121.0 else (1 if x[0] <=\n",
      "    4.0 else 0) if x[6] <= 0.5385000109672546 else 1) if x[7] <= 56.0 else \n",
      "    0) if x[4] <= 11.0 else (0 if x[4] <= 109.5 else 1 if x[3] <= 47.5 else\n",
      "    0 if x[3] <= 49.5 else 1) if x[1] <= 122.5 else 0) if x[2] <= 91.0 else\n",
      "    0) if x[1] <= 127.5 else (((0 if x[0] <= 2.5 else (1 if x[7] <= 29.5 else\n",
      "    (0 if x[7] <= 48.5 else 1) if x[0] <= 4.5 else 0) if x[1] <= 153.0 else\n",
      "    1) if x[5] <= 27.75 else ((((0 if x[6] <= 0.2150000035762787 else 1) if\n",
      "    x[2] <= 73.0 else (0 if x[0] <= 2.5 else 1) if x[5] <= \n",
      "    29.149999618530273 else 0) if x[1] <= 136.5 else ((1 if x[5] <= \n",
      "    30.199999809265137 else 0) if x[6] <= 0.1834999993443489 else 0) if x[3\n",
      "    ] <= 31.5 else 1 if x[3] <= 35.5 else 0) if x[4] <= 301.0 else 1) if x[\n",
      "    6] <= 0.7229999899864197 else 0 if x[5] <= 29.649999618530273 else 1) if\n",
      "    x[5] <= 34.10000038146973 else ((0 if x[3] <= 43.5 else 1) if x[1] <= \n",
      "    128.5 else (1 if x[1] <= 148.5 else 1 if x[0] <= 5.0 else 0) if x[2] <=\n",
      "    75.5 else ((1 if x[0] <= 9.5 else 0) if x[5] <= 39.75 else 0 if x[5] <=\n",
      "    43.39999961853027 else 1 if x[0] <= 5.0 else 0) if x[2] <= 89.0 else 1) if\n",
      "    x[4] <= 199.0 else (1 if x[2] <= 57.0 else 0) if x[0] <= 5.5 else 1) if\n",
      "    x[1] <= 157.5 else (0 if x[5] <= 23.09999942779541 else ((((1 if x[6] <=\n",
      "    0.2695000022649765 else 0 if x[7] <= 33.5 else 1) if x[0] <= 9.0 else 0 if\n",
      "    x[6] <= 0.19699999690055847 else 1) if x[6] <= 0.2880000025033951 else \n",
      "    0) if x[6] <= 0.3135000020265579 else 1 if x[5] <= 45.5 else 1 if x[6] <=\n",
      "    0.9590000212192535 else 0) if x[2] <= 93.0 else 0 if x[0] <= 7.5 else 1\n",
      "    ) if x[4] <= 611.5 else 0)\n",
      "\n"
     ]
    }
   ],
   "source": [
    "print(skompile(karar_model.predict).to(\"python/code\"))"
   ]
  },
  {
   "cell_type": "code",
   "execution_count": 52,
   "id": "e4d3b4f3",
   "metadata": {},
   "outputs": [],
   "source": [
    "from sklearn.metrics import confusion_matrix, accuracy_score, classification_report"
   ]
  },
  {
   "cell_type": "code",
   "execution_count": 53,
   "id": "c881ed88",
   "metadata": {},
   "outputs": [
    {
     "data": {
      "text/plain": [
       "0.6796536796536796"
      ]
     },
     "execution_count": 53,
     "metadata": {},
     "output_type": "execute_result"
    }
   ],
   "source": [
    "accuracy_score(y_test, karar_model.predict(X_test))"
   ]
  },
  {
   "cell_type": "code",
   "execution_count": 57,
   "id": "f61b4ea4",
   "metadata": {},
   "outputs": [],
   "source": [
    "#accuracy i artırmak için gridseach kullanabiliriz\n",
    "cart_grid = {\"max_depth\":range(1,10),\n",
    "    \"min_samples_split\": range(2,50)}\n",
    "#min_samples_split = min sample kaç olsun ki ağacı ordan dallandırayım, bölme işlemi yapıyor"
   ]
  },
  {
   "cell_type": "code",
   "execution_count": 58,
   "id": "a671906e",
   "metadata": {},
   "outputs": [
    {
     "name": "stdout",
     "output_type": "stream",
     "text": [
      "Fitting 10 folds for each of 432 candidates, totalling 4320 fits\n"
     ]
    }
   ],
   "source": [
    "cart = tree.DecisionTreeClassifier()\n",
    "cart_cv = GridSearchCV(cart, cart_grid, cv=10, n_jobs= -1, verbose=2)\n",
    "#n_jobs --> aynı anda paralel olarak yapılabilecek işlem sayısı\n",
    "cart_cv_model = cart_cv.fit(X_train, y_train)"
   ]
  },
  {
   "cell_type": "code",
   "execution_count": 59,
   "id": "819390e1",
   "metadata": {},
   "outputs": [
    {
     "data": {
      "text/plain": [
       "{'max_depth': 3, 'min_samples_split': 2}"
      ]
     },
     "execution_count": 59,
     "metadata": {},
     "output_type": "execute_result"
    }
   ],
   "source": [
    "cart_cv_model.best_params_"
   ]
  },
  {
   "cell_type": "code",
   "execution_count": 60,
   "id": "3cb6cf7f",
   "metadata": {},
   "outputs": [],
   "source": [
    "GridSearchCV?"
   ]
  },
  {
   "cell_type": "code",
   "execution_count": 61,
   "id": "55d53b8d",
   "metadata": {},
   "outputs": [],
   "source": [
    "#yeni değerlere göre accuracy hesaplıyoruz\n",
    "yeni_cart = tree.DecisionTreeClassifier(max_depth=3, min_samples_split=2)\n",
    "#cart_opt --> optimize edilmiş cart \n",
    "cart_opt = yeni_cart.fit(X_train, y_train)"
   ]
  },
  {
   "cell_type": "code",
   "execution_count": 62,
   "id": "3a1ff20e",
   "metadata": {},
   "outputs": [],
   "source": [
    "y_pred = yeni_cart.predict(X_test)"
   ]
  },
  {
   "cell_type": "code",
   "execution_count": 63,
   "id": "0a465db5",
   "metadata": {},
   "outputs": [
    {
     "data": {
      "text/plain": [
       "array([1, 0, 0, 1, 1, 0, 0, 0, 0, 0, 1, 0, 0, 0, 0, 1, 0, 0, 0, 1, 0, 0,\n",
       "       0, 0, 0, 1, 0, 1, 1, 1, 0, 0, 0, 0, 0, 1, 0, 0, 0, 1, 0, 0, 0, 1,\n",
       "       0, 1, 0, 0, 1, 0, 0, 0, 0, 1, 0, 0, 0, 0, 0, 0, 0, 0, 1, 1, 0, 0,\n",
       "       0, 0, 0, 0, 0, 0, 0, 0, 0, 1, 0, 0, 1, 0, 1, 1, 0, 0, 1, 1, 0, 1,\n",
       "       0, 1, 0, 0, 0, 0, 0, 0, 0, 0, 0, 1, 0, 0, 0, 0, 0, 0, 0, 0, 0, 0,\n",
       "       0, 0, 1, 0, 1, 1, 0, 0, 0, 1, 1, 0, 0, 0, 0, 0, 0, 1, 0, 0, 0, 0,\n",
       "       0, 1, 0, 0, 0, 0, 0, 0, 1, 1, 1, 0, 0, 0, 0, 0, 0, 1, 0, 0, 1, 0,\n",
       "       0, 0, 1, 1, 0, 0, 0, 1, 0, 0, 0, 1, 0, 0, 0, 1, 0, 0, 0, 0, 1, 0,\n",
       "       1, 0, 1, 0, 0, 0, 1, 0, 1, 0, 1, 1, 0, 1, 0, 0, 0, 0, 0, 0, 0, 1,\n",
       "       0, 1, 0, 0, 0, 1, 1, 0, 0, 0, 0, 0, 0, 0, 1, 0, 0, 0, 0, 0, 1, 1,\n",
       "       0, 0, 1, 0, 0, 1, 0, 0, 0, 0, 0], dtype=int64)"
      ]
     },
     "execution_count": 63,
     "metadata": {},
     "output_type": "execute_result"
    }
   ],
   "source": [
    "y_pred"
   ]
  },
  {
   "cell_type": "code",
   "execution_count": 64,
   "id": "4ba1a4d1",
   "metadata": {},
   "outputs": [
    {
     "data": {
      "text/plain": [
       "0.7272727272727273"
      ]
     },
     "execution_count": 64,
     "metadata": {},
     "output_type": "execute_result"
    }
   ],
   "source": [
    "accuracy_score(y_test, y_pred)\n",
    "#bi önceki accuracy: 0.67 iken şu anki accuracy 0.72 --> yani %5 bi iyileşme sağladı"
   ]
  },
  {
   "cell_type": "code",
   "execution_count": 65,
   "id": "d52b6b99",
   "metadata": {},
   "outputs": [],
   "source": [
    "tree.DecisionTreeClassifier?"
   ]
  },
  {
   "cell_type": "code",
   "execution_count": 66,
   "id": "aad15f87",
   "metadata": {},
   "outputs": [],
   "source": [
    "#min_samples_split --> ara node u bölmek için gereken şey"
   ]
  },
  {
   "cell_type": "code",
   "execution_count": 67,
   "id": "c9a4f028",
   "metadata": {},
   "outputs": [
    {
     "data": {
      "text/plain": [
       "<function matplotlib.pyplot.show(close=None, block=None)>"
      ]
     },
     "execution_count": 67,
     "metadata": {},
     "output_type": "execute_result"
    },
    {
     "data": {
      "image/png": "[encoded data removed]",
      "text/plain": [
       "<Figure size 1728x1152 with 1 Axes>"
      ]
     },
     "metadata": {
      "needs_background": "light"
     },
     "output_type": "display_data"
    }
   ],
   "source": [
    "#çizim\n",
    "plt.figure(figsize=(24,16))\n",
    "from sklearn import tree\n",
    "tree.plot_tree(yeni_cart.fit(X_train, y_train))\n",
    "plt.show"
   ]
  },
  {
   "cell_type": "code",
   "execution_count": null,
   "id": "9f58badf",
   "metadata": {},
   "outputs": [],
   "source": []
  }
 ],
 "metadata": {
  "kernelspec": {
   "display_name": "Python 3",
   "language": "python",
   "name": "python3"
  },
  "language_info": {
   "codemirror_mode": {
    "name": "ipython",
    "version": 3
   },
   "file_extension": ".py",
   "mimetype": "text/x-python",
   "name": "python",
   "nbconvert_exporter": "python",
   "pygments_lexer": "ipython3",
   "version": "3.8.8"
  }
 },
 "nbformat": 4,
 "nbformat_minor": 5
}
