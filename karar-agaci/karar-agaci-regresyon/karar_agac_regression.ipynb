{
 "cells": [
  {
   "cell_type": "code",
   "execution_count": null,
   "id": "ca338fd8",
   "metadata": {},
   "outputs": [],
   "source": [
    "#Hitters veri seti kullanarak Karar Ağacında Regresyon"
   ]
  },
  {
   "cell_type": "code",
   "execution_count": null,
   "id": "7494a8d9",
   "metadata": {},
   "outputs": [],
   "source": [
    "import pandas as pd\n",
    "import numpy as np\n",
    "import statsmodels.api as sm\n",
    "import statsmodels.formula.api as smf\n",
    "#import seaborn as sns\n",
    "from sklearn.preprocessing import scale\n",
    "from sklearn.model_selection import train_test_split, GridSearchCV, cross_val_score\n",
    "from sklearn.metrics import confusion_matrix, accuracy_score, classification_report, mean_squared_error\n",
    "from sklearn.metrics import roc_auc_score, roc_curve\n",
    "import matplotlib.pyplot as plt\n",
    "from sklearn.neighbors import KNeighborsClassifier\n",
    "from sklearn.discriminant_analysis import LinearDiscriminantAnalysis\n",
    "from sklearn.linear_model import LogisticRegression\n",
    "from sklearn.tree import DecisionTreeClassifier, DecisionTreeRegressor\n",
    "from sklearn.svm import SVC\n",
    "from sklearn.naive_bayes import GaussianNB\n",
    "from sklearn import tree\n",
    "from sklearn.ensemble import RandomForestClassifier\n",
    "from sklearn.ensemble import GradientBoostingClassifier"
   ]
  },
  {
   "cell_type": "code",
   "execution_count": null,
   "id": "8be07770",
   "metadata": {},
   "outputs": [],
   "source": [
    "hit = pd.read_csv(\"Hitters.csv\")\n",
    "#basketbolcuların belirlenen özelliklere göre maaşının hesaplanmasından oluşan veri seti"
   ]
  },
  {
   "cell_type": "code",
   "execution_count": null,
   "id": "bc3a0387",
   "metadata": {},
   "outputs": [],
   "source": [
    "df = hit.copy()"
   ]
  },
  {
   "cell_type": "code",
   "execution_count": null,
   "id": "f3ea2f9d",
   "metadata": {},
   "outputs": [],
   "source": [
    "hit.head(10)"
   ]
  },
  {
   "cell_type": "code",
   "execution_count": null,
   "id": "81fe7bf4",
   "metadata": {},
   "outputs": [],
   "source": [
    "#df.isnull() #boş veri var mı yok mu kontrolü\n",
    "df.isnull().sum() #toplam kaç tane boş veri var\n",
    "#Boş verilerin kontrolünü her veri setinde yapmanız lazım!!!\n",
    "#Boş verileri doldurmak için veriler düzgün bir şekilde dağılışsa ortalama verebilirsiniz\n",
    "#Veriler düzgün bir şekilde dağılmamışsa, veri içerisinde aykırı değerler varsa o zaman ortalama koyma çok mantıklı değil. Medyan koymak daha mantıklı olabilir"
   ]
  },
  {
   "cell_type": "code",
   "execution_count": null,
   "id": "9d0ad3e0",
   "metadata": {},
   "outputs": [],
   "source": [
    "#Veri seti çoksa 59 taneyi silebilirsiniz. Bu örnekteki boş salary ler için"
   ]
  },
  {
   "cell_type": "code",
   "execution_count": null,
   "id": "5ca61a72",
   "metadata": {},
   "outputs": [],
   "source": [
    "df.shape"
   ]
  },
  {
   "cell_type": "code",
   "execution_count": null,
   "id": "30417d53",
   "metadata": {},
   "outputs": [],
   "source": [
    "df = df.dropna() #boş verileri kaldır"
   ]
  },
  {
   "cell_type": "code",
   "execution_count": null,
   "id": "9f0d734a",
   "metadata": {},
   "outputs": [],
   "source": [
    "df.shape"
   ]
  },
  {
   "cell_type": "code",
   "execution_count": null,
   "id": "94c54842",
   "metadata": {},
   "outputs": [],
   "source": [
    "#Veri setinde kategorik ve nümerik değerler var. \n",
    "#Kategorik verilerin nümerik verilere çevrilmesi gerekiyo\n",
    "#Bunun için OneHotEncoding yapmamız gerekiyo. Yada daha kısa ve hızlı olarak get_dummies kullanabilirsin\n",
    "\n",
    "dummyDeger = pd.get_dummies(df[['League', 'Division', 'NewLeague']])"
   ]
  },
  {
   "cell_type": "code",
   "execution_count": null,
   "id": "06af02e4",
   "metadata": {},
   "outputs": [],
   "source": [
    "dummyDeger #ile kategorik veriler nümerik değerlere dönüştü"
   ]
  },
  {
   "cell_type": "code",
   "execution_count": null,
   "id": "5d834843",
   "metadata": {},
   "outputs": [],
   "source": [
    "y = df['Salary']"
   ]
  },
  {
   "cell_type": "code",
   "execution_count": null,
   "id": "39cfbe03",
   "metadata": {},
   "outputs": [],
   "source": [
    "X_= df.drop(['Salary', 'League', 'Division', 'NewLeague'], axis=1)\n",
    "#'Salary', 'League', 'Division', 'NewLeague' kategorilerini kaldırdık\n",
    "# veri setindeki kategorik olanlar -->'League', 'Division', 'NewLeague'"
   ]
  },
  {
   "cell_type": "code",
   "execution_count": null,
   "id": "894933c4",
   "metadata": {},
   "outputs": [],
   "source": [
    "X_.head()"
   ]
  },
  {
   "cell_type": "code",
   "execution_count": null,
   "id": "94aad510",
   "metadata": {},
   "outputs": [],
   "source": [
    "#kaldırıdığımız sütunları yeni oluşturduğumuz değerlerle birleştiriyoruz\n",
    "X = pd.concat([X_, dummyDeger[['League_N','Division_W', 'NewLeague_N']]],axis=1)"
   ]
  },
  {
   "cell_type": "code",
   "execution_count": null,
   "id": "065223da",
   "metadata": {},
   "outputs": [],
   "source": [
    "X.head()"
   ]
  },
  {
   "cell_type": "code",
   "execution_count": null,
   "id": "ce89f8e7",
   "metadata": {},
   "outputs": [],
   "source": [
    "X_train, X_test, y_train, y_test = train_test_split(X, y, test_size=0.30, random_state=60)"
   ]
  },
  {
   "cell_type": "code",
   "execution_count": null,
   "id": "3ed57b4a",
   "metadata": {},
   "outputs": [],
   "source": [
    "X_train.head()"
   ]
  },
  {
   "cell_type": "code",
   "execution_count": null,
   "id": "3e05b916",
   "metadata": {},
   "outputs": [],
   "source": [
    "#X --> salary tahmin etme\n",
    "X_train = pd.DataFrame(X_train[\"Hits\"]) #X_train in basket sayısını aldık"
   ]
  },
  {
   "cell_type": "code",
   "execution_count": null,
   "id": "ced4dde3",
   "metadata": {},
   "outputs": [],
   "source": [
    "X_test = pd.DataFrame(X_test[\"Hits\"]) #X_test in basket sayısını aldık"
   ]
  },
  {
   "cell_type": "code",
   "execution_count": null,
   "id": "5e74ec32",
   "metadata": {},
   "outputs": [],
   "source": [
    "X_train.head() # X_train i tek değişkene düşürdük yani Hits e\n",
    "#birden çok future(özellik) alabilirsiniz"
   ]
  },
  {
   "cell_type": "code",
   "execution_count": null,
   "id": "b32296fc",
   "metadata": {},
   "outputs": [],
   "source": [
    "agac_reg = DecisionTreeRegressor()"
   ]
  },
  {
   "cell_type": "code",
   "execution_count": null,
   "id": "23410b69",
   "metadata": {},
   "outputs": [],
   "source": [
    "agac_reg"
   ]
  },
  {
   "cell_type": "code",
   "execution_count": null,
   "id": "fc71fde0",
   "metadata": {},
   "outputs": [],
   "source": [
    "agac_reg.fit(X_train, y_train)"
   ]
  },
  {
   "cell_type": "code",
   "execution_count": null,
   "id": "5dbdf0dd",
   "metadata": {},
   "outputs": [],
   "source": [
    "#X değeri tek değer bulmak için predict kullan\n",
    "agac_reg.predict([[91]])"
   ]
  },
  {
   "cell_type": "code",
   "execution_count": null,
   "id": "51296269",
   "metadata": {},
   "outputs": [],
   "source": [
    "#GridSearch ile CrossValidation yapabilirsiniz\n",
    "#modelin hiperparametrelerini öğrenip optimizasyon yapmak önemli"
   ]
  },
  {
   "cell_type": "code",
   "execution_count": null,
   "id": "e5ad58b1",
   "metadata": {},
   "outputs": [],
   "source": [
    "y_pred = agac_reg.predict(X_test)"
   ]
  },
  {
   "cell_type": "code",
   "execution_count": null,
   "id": "67c8374b",
   "metadata": {},
   "outputs": [],
   "source": [
    "# mse --> ortalama\n",
    "mse_deger = mean_squared_error(y_test, y_pred)"
   ]
  },
  {
   "cell_type": "code",
   "execution_count": null,
   "id": "d44c9b6c",
   "metadata": {},
   "outputs": [],
   "source": [
    "mse_deger"
   ]
  },
  {
   "cell_type": "code",
   "execution_count": null,
   "id": "f0082011",
   "metadata": {},
   "outputs": [],
   "source": [
    "np.sqrt(mse_deger) #karekök alma"
   ]
  },
  {
   "cell_type": "code",
   "execution_count": null,
   "id": "30058807",
   "metadata": {},
   "outputs": [],
   "source": [
    "#optimize edelim\n",
    "cart_params = {\"min_samples_split\":range(2,10),\"max_leaf_nodes\": range(2,10)}\n",
    "#max_leaf_nodes: range(2,10) dedik ya aralığı artırırsak mesela 2,100 yaparsak nolur? \n",
    "#range değiştirirsek değer değişebiliyo"
   ]
  },
  {
   "cell_type": "code",
   "execution_count": null,
   "id": "6276e873",
   "metadata": {},
   "outputs": [],
   "source": [
    "cart_cv_model = GridSearchCV(agac_reg, cart_params, cv=10)\n",
    "cart_cv_model.fit(X_train, y_train)"
   ]
  },
  {
   "cell_type": "code",
   "execution_count": null,
   "id": "ea5ad10f",
   "metadata": {},
   "outputs": [],
   "source": [
    "cart_cv_model.best_params_"
   ]
  },
  {
   "cell_type": "code",
   "execution_count": null,
   "id": "aaf53d00",
   "metadata": {},
   "outputs": [],
   "source": [
    "cart_opt = DecisionTreeRegressor(max_leaf_nodes=2, min_samples_split=2)"
   ]
  },
  {
   "cell_type": "code",
   "execution_count": null,
   "id": "de182041",
   "metadata": {},
   "outputs": [],
   "source": [
    "cart_opt.fit(X_train, y_train)"
   ]
  },
  {
   "cell_type": "code",
   "execution_count": null,
   "id": "6898b573",
   "metadata": {},
   "outputs": [],
   "source": [
    "y_pred = cart_opt.predict(X_test)"
   ]
  },
  {
   "cell_type": "code",
   "execution_count": null,
   "id": "65900e28",
   "metadata": {},
   "outputs": [],
   "source": [
    "np.sqrt(mean_squared_error(y_test, y_pred))\n",
    "#Karesel hata 538 di 466 oldu. "
   ]
  },
  {
   "cell_type": "code",
   "execution_count": null,
   "id": "1098df9f",
   "metadata": {},
   "outputs": [],
   "source": []
  }
 ],
 "metadata": {
  "kernelspec": {
   "display_name": "Python 3",
   "language": "python",
   "name": "python3"
  },
  "language_info": {
   "codemirror_mode": {
    "name": "ipython",
    "version": 3
   },
   "file_extension": ".py",
   "mimetype": "text/x-python",
   "name": "python",
   "nbconvert_exporter": "python",
   "pygments_lexer": "ipython3",
   "version": "3.8.8"
  }
 },
 "nbformat": 4,
 "nbformat_minor": 5
}
