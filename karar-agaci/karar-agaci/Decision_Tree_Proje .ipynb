{
 "cells": [
  {
   "cell_type": "code",
   "execution_count": 245,
   "id": "0dfcb5ce",
   "metadata": {},
   "outputs": [],
   "source": [
    "#Banka veri seti kullanarak\n",
    "#kredi verip verilmeyeceği"
   ]
  },
  {
   "cell_type": "code",
   "execution_count": 246,
   "id": "961db10e",
   "metadata": {},
   "outputs": [],
   "source": [
    "import pandas as pd\n",
    "import numpy as np\n",
    "import seaborn as sns\n",
    "import matplotlib.pyplot as plt\n",
    "%matplotlib inline\n",
    "\n",
    "import warnings\n",
    "warnings.filterwarnings('ignore')"
   ]
  },
  {
   "cell_type": "code",
   "execution_count": 247,
   "id": "ec7d3adb",
   "metadata": {},
   "outputs": [],
   "source": [
    "df = pd.read_csv('bank-additional.csv', sep=';')"
   ]
  },
  {
   "cell_type": "markdown",
   "id": "846ca330",
   "metadata": {},
   "source": [
    "**3) IMPORT DATASET**"
   ]
  },
  {
   "cell_type": "code",
   "execution_count": 248,
   "id": "04bef5a3",
   "metadata": {},
   "outputs": [],
   "source": [
    "#duration sütununu çıkaralım\n",
    "#dataset açıklamasında geçtiği üzere\n",
    "\n",
    "df = df.drop('duration', axis=1)"
   ]
  },
  {
   "cell_type": "markdown",
   "id": "06cf28d8",
   "metadata": {},
   "source": [
    "**4) EXPLORATY DATA ANALYSIS (EDA)**"
   ]
  },
  {
   "cell_type": "code",
   "execution_count": 249,
   "id": "62f94432",
   "metadata": {},
   "outputs": [
    {
     "data": {
      "text/plain": [
       "(4119, 20)"
      ]
     },
     "execution_count": 249,
     "metadata": {},
     "output_type": "execute_result"
    }
   ],
   "source": [
    "#verinin şekli\n",
    "df.shape"
   ]
  },
  {
   "cell_type": "code",
   "execution_count": 250,
   "id": "c627dd2d",
   "metadata": {},
   "outputs": [
    {
     "data": {
      "text/html": [
       "<div>\n",
       "<style scoped>\n",
       "    .dataframe tbody tr th:only-of-type {\n",
       "        vertical-align: middle;\n",
       "    }\n",
       "\n",
       "    .dataframe tbody tr th {\n",
       "        vertical-align: top;\n",
       "    }\n",
       "\n",
       "    .dataframe thead th {\n",
       "        text-align: right;\n",
       "    }\n",
       "</style>\n",
       "<table border=\"1\" class=\"dataframe\">\n",
       "  <thead>\n",
       "    <tr style=\"text-align: right;\">\n",
       "      <th></th>\n",
       "      <th>age</th>\n",
       "      <th>job</th>\n",
       "      <th>marital</th>\n",
       "      <th>education</th>\n",
       "      <th>default</th>\n",
       "      <th>housing</th>\n",
       "      <th>loan</th>\n",
       "      <th>contact</th>\n",
       "      <th>month</th>\n",
       "      <th>day_of_week</th>\n",
       "      <th>campaign</th>\n",
       "      <th>pdays</th>\n",
       "      <th>previous</th>\n",
       "      <th>poutcome</th>\n",
       "      <th>emp.var.rate</th>\n",
       "      <th>cons.price.idx</th>\n",
       "      <th>cons.conf.idx</th>\n",
       "      <th>euribor3m</th>\n",
       "      <th>nr.employed</th>\n",
       "      <th>y</th>\n",
       "    </tr>\n",
       "  </thead>\n",
       "  <tbody>\n",
       "    <tr>\n",
       "      <th>0</th>\n",
       "      <td>30</td>\n",
       "      <td>blue-collar</td>\n",
       "      <td>married</td>\n",
       "      <td>basic.9y</td>\n",
       "      <td>no</td>\n",
       "      <td>yes</td>\n",
       "      <td>no</td>\n",
       "      <td>cellular</td>\n",
       "      <td>may</td>\n",
       "      <td>fri</td>\n",
       "      <td>2</td>\n",
       "      <td>999</td>\n",
       "      <td>0</td>\n",
       "      <td>nonexistent</td>\n",
       "      <td>-1.8</td>\n",
       "      <td>92.893</td>\n",
       "      <td>-46.2</td>\n",
       "      <td>1.313</td>\n",
       "      <td>5099.1</td>\n",
       "      <td>no</td>\n",
       "    </tr>\n",
       "    <tr>\n",
       "      <th>1</th>\n",
       "      <td>39</td>\n",
       "      <td>services</td>\n",
       "      <td>single</td>\n",
       "      <td>high.school</td>\n",
       "      <td>no</td>\n",
       "      <td>no</td>\n",
       "      <td>no</td>\n",
       "      <td>telephone</td>\n",
       "      <td>may</td>\n",
       "      <td>fri</td>\n",
       "      <td>4</td>\n",
       "      <td>999</td>\n",
       "      <td>0</td>\n",
       "      <td>nonexistent</td>\n",
       "      <td>1.1</td>\n",
       "      <td>93.994</td>\n",
       "      <td>-36.4</td>\n",
       "      <td>4.855</td>\n",
       "      <td>5191.0</td>\n",
       "      <td>no</td>\n",
       "    </tr>\n",
       "    <tr>\n",
       "      <th>2</th>\n",
       "      <td>25</td>\n",
       "      <td>services</td>\n",
       "      <td>married</td>\n",
       "      <td>high.school</td>\n",
       "      <td>no</td>\n",
       "      <td>yes</td>\n",
       "      <td>no</td>\n",
       "      <td>telephone</td>\n",
       "      <td>jun</td>\n",
       "      <td>wed</td>\n",
       "      <td>1</td>\n",
       "      <td>999</td>\n",
       "      <td>0</td>\n",
       "      <td>nonexistent</td>\n",
       "      <td>1.4</td>\n",
       "      <td>94.465</td>\n",
       "      <td>-41.8</td>\n",
       "      <td>4.962</td>\n",
       "      <td>5228.1</td>\n",
       "      <td>no</td>\n",
       "    </tr>\n",
       "    <tr>\n",
       "      <th>3</th>\n",
       "      <td>38</td>\n",
       "      <td>services</td>\n",
       "      <td>married</td>\n",
       "      <td>basic.9y</td>\n",
       "      <td>no</td>\n",
       "      <td>unknown</td>\n",
       "      <td>unknown</td>\n",
       "      <td>telephone</td>\n",
       "      <td>jun</td>\n",
       "      <td>fri</td>\n",
       "      <td>3</td>\n",
       "      <td>999</td>\n",
       "      <td>0</td>\n",
       "      <td>nonexistent</td>\n",
       "      <td>1.4</td>\n",
       "      <td>94.465</td>\n",
       "      <td>-41.8</td>\n",
       "      <td>4.959</td>\n",
       "      <td>5228.1</td>\n",
       "      <td>no</td>\n",
       "    </tr>\n",
       "    <tr>\n",
       "      <th>4</th>\n",
       "      <td>47</td>\n",
       "      <td>admin.</td>\n",
       "      <td>married</td>\n",
       "      <td>university.degree</td>\n",
       "      <td>no</td>\n",
       "      <td>yes</td>\n",
       "      <td>no</td>\n",
       "      <td>cellular</td>\n",
       "      <td>nov</td>\n",
       "      <td>mon</td>\n",
       "      <td>1</td>\n",
       "      <td>999</td>\n",
       "      <td>0</td>\n",
       "      <td>nonexistent</td>\n",
       "      <td>-0.1</td>\n",
       "      <td>93.200</td>\n",
       "      <td>-42.0</td>\n",
       "      <td>4.191</td>\n",
       "      <td>5195.8</td>\n",
       "      <td>no</td>\n",
       "    </tr>\n",
       "    <tr>\n",
       "      <th>5</th>\n",
       "      <td>32</td>\n",
       "      <td>services</td>\n",
       "      <td>single</td>\n",
       "      <td>university.degree</td>\n",
       "      <td>no</td>\n",
       "      <td>no</td>\n",
       "      <td>no</td>\n",
       "      <td>cellular</td>\n",
       "      <td>sep</td>\n",
       "      <td>thu</td>\n",
       "      <td>3</td>\n",
       "      <td>999</td>\n",
       "      <td>2</td>\n",
       "      <td>failure</td>\n",
       "      <td>-1.1</td>\n",
       "      <td>94.199</td>\n",
       "      <td>-37.5</td>\n",
       "      <td>0.884</td>\n",
       "      <td>4963.6</td>\n",
       "      <td>no</td>\n",
       "    </tr>\n",
       "    <tr>\n",
       "      <th>6</th>\n",
       "      <td>32</td>\n",
       "      <td>admin.</td>\n",
       "      <td>single</td>\n",
       "      <td>university.degree</td>\n",
       "      <td>no</td>\n",
       "      <td>yes</td>\n",
       "      <td>no</td>\n",
       "      <td>cellular</td>\n",
       "      <td>sep</td>\n",
       "      <td>mon</td>\n",
       "      <td>4</td>\n",
       "      <td>999</td>\n",
       "      <td>0</td>\n",
       "      <td>nonexistent</td>\n",
       "      <td>-1.1</td>\n",
       "      <td>94.199</td>\n",
       "      <td>-37.5</td>\n",
       "      <td>0.879</td>\n",
       "      <td>4963.6</td>\n",
       "      <td>no</td>\n",
       "    </tr>\n",
       "    <tr>\n",
       "      <th>7</th>\n",
       "      <td>41</td>\n",
       "      <td>entrepreneur</td>\n",
       "      <td>married</td>\n",
       "      <td>university.degree</td>\n",
       "      <td>unknown</td>\n",
       "      <td>yes</td>\n",
       "      <td>no</td>\n",
       "      <td>cellular</td>\n",
       "      <td>nov</td>\n",
       "      <td>mon</td>\n",
       "      <td>2</td>\n",
       "      <td>999</td>\n",
       "      <td>0</td>\n",
       "      <td>nonexistent</td>\n",
       "      <td>-0.1</td>\n",
       "      <td>93.200</td>\n",
       "      <td>-42.0</td>\n",
       "      <td>4.191</td>\n",
       "      <td>5195.8</td>\n",
       "      <td>no</td>\n",
       "    </tr>\n",
       "    <tr>\n",
       "      <th>8</th>\n",
       "      <td>31</td>\n",
       "      <td>services</td>\n",
       "      <td>divorced</td>\n",
       "      <td>professional.course</td>\n",
       "      <td>no</td>\n",
       "      <td>no</td>\n",
       "      <td>no</td>\n",
       "      <td>cellular</td>\n",
       "      <td>nov</td>\n",
       "      <td>tue</td>\n",
       "      <td>1</td>\n",
       "      <td>999</td>\n",
       "      <td>1</td>\n",
       "      <td>failure</td>\n",
       "      <td>-0.1</td>\n",
       "      <td>93.200</td>\n",
       "      <td>-42.0</td>\n",
       "      <td>4.153</td>\n",
       "      <td>5195.8</td>\n",
       "      <td>no</td>\n",
       "    </tr>\n",
       "    <tr>\n",
       "      <th>9</th>\n",
       "      <td>35</td>\n",
       "      <td>blue-collar</td>\n",
       "      <td>married</td>\n",
       "      <td>basic.9y</td>\n",
       "      <td>unknown</td>\n",
       "      <td>no</td>\n",
       "      <td>no</td>\n",
       "      <td>telephone</td>\n",
       "      <td>may</td>\n",
       "      <td>thu</td>\n",
       "      <td>1</td>\n",
       "      <td>999</td>\n",
       "      <td>0</td>\n",
       "      <td>nonexistent</td>\n",
       "      <td>1.1</td>\n",
       "      <td>93.994</td>\n",
       "      <td>-36.4</td>\n",
       "      <td>4.855</td>\n",
       "      <td>5191.0</td>\n",
       "      <td>no</td>\n",
       "    </tr>\n",
       "  </tbody>\n",
       "</table>\n",
       "</div>"
      ],
      "text/plain": [
       "   age           job   marital            education  default  housing  \\\n",
       "0   30   blue-collar   married             basic.9y       no      yes   \n",
       "1   39      services    single          high.school       no       no   \n",
       "2   25      services   married          high.school       no      yes   \n",
       "3   38      services   married             basic.9y       no  unknown   \n",
       "4   47        admin.   married    university.degree       no      yes   \n",
       "5   32      services    single    university.degree       no       no   \n",
       "6   32        admin.    single    university.degree       no      yes   \n",
       "7   41  entrepreneur   married    university.degree  unknown      yes   \n",
       "8   31      services  divorced  professional.course       no       no   \n",
       "9   35   blue-collar   married             basic.9y  unknown       no   \n",
       "\n",
       "      loan    contact month day_of_week  campaign  pdays  previous  \\\n",
       "0       no   cellular   may         fri         2    999         0   \n",
       "1       no  telephone   may         fri         4    999         0   \n",
       "2       no  telephone   jun         wed         1    999         0   \n",
       "3  unknown  telephone   jun         fri         3    999         0   \n",
       "4       no   cellular   nov         mon         1    999         0   \n",
       "5       no   cellular   sep         thu         3    999         2   \n",
       "6       no   cellular   sep         mon         4    999         0   \n",
       "7       no   cellular   nov         mon         2    999         0   \n",
       "8       no   cellular   nov         tue         1    999         1   \n",
       "9       no  telephone   may         thu         1    999         0   \n",
       "\n",
       "      poutcome  emp.var.rate  cons.price.idx  cons.conf.idx  euribor3m  \\\n",
       "0  nonexistent          -1.8          92.893          -46.2      1.313   \n",
       "1  nonexistent           1.1          93.994          -36.4      4.855   \n",
       "2  nonexistent           1.4          94.465          -41.8      4.962   \n",
       "3  nonexistent           1.4          94.465          -41.8      4.959   \n",
       "4  nonexistent          -0.1          93.200          -42.0      4.191   \n",
       "5      failure          -1.1          94.199          -37.5      0.884   \n",
       "6  nonexistent          -1.1          94.199          -37.5      0.879   \n",
       "7  nonexistent          -0.1          93.200          -42.0      4.191   \n",
       "8      failure          -0.1          93.200          -42.0      4.153   \n",
       "9  nonexistent           1.1          93.994          -36.4      4.855   \n",
       "\n",
       "   nr.employed   y  \n",
       "0       5099.1  no  \n",
       "1       5191.0  no  \n",
       "2       5228.1  no  \n",
       "3       5228.1  no  \n",
       "4       5195.8  no  \n",
       "5       4963.6  no  \n",
       "6       4963.6  no  \n",
       "7       5195.8  no  \n",
       "8       5195.8  no  \n",
       "9       5191.0  no  "
      ]
     },
     "execution_count": 250,
     "metadata": {},
     "output_type": "execute_result"
    }
   ],
   "source": [
    "#ilk satırlar\n",
    "df.head(10) #ilk 10 satır"
   ]
  },
  {
   "cell_type": "code",
   "execution_count": 251,
   "id": "24bf6f09",
   "metadata": {},
   "outputs": [
    {
     "data": {
      "text/plain": [
       "Index(['age', 'job', 'marital', 'education', 'default', 'housing', 'loan',\n",
       "       'contact', 'month', 'day_of_week', 'campaign', 'pdays', 'previous',\n",
       "       'poutcome', 'emp.var.rate', 'cons.price.idx', 'cons.conf.idx',\n",
       "       'euribor3m', 'nr.employed', 'y'],\n",
       "      dtype='object')"
      ]
     },
     "execution_count": 251,
     "metadata": {},
     "output_type": "execute_result"
    }
   ],
   "source": [
    "#sütun adları \n",
    "col_names = df.columns\n",
    "col_names"
   ]
  },
  {
   "cell_type": "code",
   "execution_count": 252,
   "id": "c7cf2cb0",
   "metadata": {},
   "outputs": [
    {
     "data": {
      "text/plain": [
       "no     3668\n",
       "yes     451\n",
       "Name: y, dtype: int64"
      ]
     },
     "execution_count": 252,
     "metadata": {},
     "output_type": "execute_result"
    }
   ],
   "source": [
    "#target variable'ın dağılımı\n",
    "df['y'].value_counts() #y bağımlı değişken, diğerleri bağımsız değişken\n",
    "\n",
    "#veri asimetrik bir şekilde dağılmış"
   ]
  },
  {
   "cell_type": "code",
   "execution_count": 253,
   "id": "a9cac7b7",
   "metadata": {},
   "outputs": [
    {
     "data": {
      "text/plain": [
       "no     0.890507\n",
       "yes    0.109493\n",
       "Name: y, dtype: float64"
      ]
     },
     "execution_count": 253,
     "metadata": {},
     "output_type": "execute_result"
    }
   ],
   "source": [
    "#sınıfların (yes-no) yüzde dağılımını görelim \n",
    "df['y'].value_counts() / np.float(len(df))\n"
   ]
  },
  {
   "cell_type": "markdown",
   "id": "1d635b9b",
   "metadata": {},
   "source": [
    "Gördüğümüz gibi, no-yes sınıfları arasında büyük bir fark var (%89-%11)\n",
    "Burda accuracy nin bi anlamı yok çünkü verinin dağılımına bakarsak doğru olmaz --> no %89 değerinde\n",
    "O zaman burda model kurmaya gerek yok\n",
    "Bu da verinin inbalanced olduğunu gösteriyor. Sonuçları yorumlarken dikkat etmemiz lazım"
   ]
  },
  {
   "cell_type": "code",
   "execution_count": 254,
   "id": "784d854b",
   "metadata": {},
   "outputs": [
    {
     "name": "stdout",
     "output_type": "stream",
     "text": [
      "<class 'pandas.core.frame.DataFrame'>\n",
      "RangeIndex: 4119 entries, 0 to 4118\n",
      "Data columns (total 20 columns):\n",
      " #   Column          Non-Null Count  Dtype  \n",
      "---  ------          --------------  -----  \n",
      " 0   age             4119 non-null   int64  \n",
      " 1   job             4119 non-null   object \n",
      " 2   marital         4119 non-null   object \n",
      " 3   education       4119 non-null   object \n",
      " 4   default         4119 non-null   object \n",
      " 5   housing         4119 non-null   object \n",
      " 6   loan            4119 non-null   object \n",
      " 7   contact         4119 non-null   object \n",
      " 8   month           4119 non-null   object \n",
      " 9   day_of_week     4119 non-null   object \n",
      " 10  campaign        4119 non-null   int64  \n",
      " 11  pdays           4119 non-null   int64  \n",
      " 12  previous        4119 non-null   int64  \n",
      " 13  poutcome        4119 non-null   object \n",
      " 14  emp.var.rate    4119 non-null   float64\n",
      " 15  cons.price.idx  4119 non-null   float64\n",
      " 16  cons.conf.idx   4119 non-null   float64\n",
      " 17  euribor3m       4119 non-null   float64\n",
      " 18  nr.employed     4119 non-null   float64\n",
      " 19  y               4119 non-null   object \n",
      "dtypes: float64(5), int64(4), object(11)\n",
      "memory usage: 643.7+ KB\n"
     ]
    }
   ],
   "source": [
    "#özet verileri görelim\n",
    "df.info()\n",
    "\n",
    "#object tipinde olanlar kategorik değerler, int veya float olanlar nümerik değerler"
   ]
  },
  {
   "cell_type": "code",
   "execution_count": 255,
   "id": "142a7f4c",
   "metadata": {},
   "outputs": [
    {
     "data": {
      "text/plain": [
       "age               0\n",
       "job               0\n",
       "marital           0\n",
       "education         0\n",
       "default           0\n",
       "housing           0\n",
       "loan              0\n",
       "contact           0\n",
       "month             0\n",
       "day_of_week       0\n",
       "campaign          0\n",
       "pdays             0\n",
       "previous          0\n",
       "poutcome          0\n",
       "emp.var.rate      0\n",
       "cons.price.idx    0\n",
       "cons.conf.idx     0\n",
       "euribor3m         0\n",
       "nr.employed       0\n",
       "y                 0\n",
       "dtype: int64"
      ]
     },
     "execution_count": 255,
     "metadata": {},
     "output_type": "execute_result"
    }
   ],
   "source": [
    "#eksik veri kontolü\n",
    "df.isnull().sum()"
   ]
  },
  {
   "cell_type": "code",
   "execution_count": 256,
   "id": "315fe913",
   "metadata": {},
   "outputs": [
    {
     "data": {
      "text/plain": [
       "20"
      ]
     },
     "execution_count": 256,
     "metadata": {},
     "output_type": "execute_result"
    }
   ],
   "source": [
    "#toplam kolon sayısı\n",
    "len(df.columns)"
   ]
  },
  {
   "cell_type": "code",
   "execution_count": 257,
   "id": "77294777",
   "metadata": {},
   "outputs": [
    {
     "data": {
      "text/plain": [
       "(4119, 9)"
      ]
     },
     "execution_count": 257,
     "metadata": {},
     "output_type": "execute_result"
    }
   ],
   "source": [
    "#nümerik kolonların adedi\n",
    "df.select_dtypes(include=['int64', 'float64']).shape"
   ]
  },
  {
   "cell_type": "code",
   "execution_count": 258,
   "id": "8f757072",
   "metadata": {},
   "outputs": [
    {
     "data": {
      "text/plain": [
       "Index(['age', 'campaign', 'pdays', 'previous', 'emp.var.rate',\n",
       "       'cons.price.idx', 'cons.conf.idx', 'euribor3m', 'nr.employed'],\n",
       "      dtype='object')"
      ]
     },
     "execution_count": 258,
     "metadata": {},
     "output_type": "execute_result"
    }
   ],
   "source": [
    "#nümerik kolonlar\n",
    "\n",
    "numeric_cols = df.select_dtypes(include=['int64', 'float64']).columns\n",
    "\n",
    "numeric_cols"
   ]
  },
  {
   "cell_type": "code",
   "execution_count": 259,
   "id": "473da990",
   "metadata": {},
   "outputs": [
    {
     "data": {
      "text/plain": [
       "(4119, 11)"
      ]
     },
     "execution_count": 259,
     "metadata": {},
     "output_type": "execute_result"
    }
   ],
   "source": [
    "#kategorik kolonların adedi\n",
    "\n",
    "df.select_dtypes(include='object').shape"
   ]
  },
  {
   "cell_type": "code",
   "execution_count": 260,
   "id": "15ba7701",
   "metadata": {},
   "outputs": [
    {
     "data": {
      "text/plain": [
       "Index(['job', 'marital', 'education', 'default', 'housing', 'loan', 'contact',\n",
       "       'month', 'day_of_week', 'poutcome', 'y'],\n",
       "      dtype='object')"
      ]
     },
     "execution_count": 260,
     "metadata": {},
     "output_type": "execute_result"
    }
   ],
   "source": [
    "#kategorik kolonlar(object)\n",
    "\n",
    "cat_cols = df.select_dtypes(include='object').columns\n",
    "\n",
    "cat_cols"
   ]
  },
  {
   "cell_type": "markdown",
   "id": "89efae97",
   "metadata": {},
   "source": [
    "Veri Özeti:\n",
    "    Toplam 4119 adet veri\n",
    "    19 değişken\n",
    "        9 adet nümerik değişken\n",
    "        10 adet kategorik değişken\n",
    "    Hiç eksik veri yok\n",
    "    \n",
    "Nümerik Değişkenler\n",
    "    Şimdi nümerik değişkenlerin dağılımına bakalım"
   ]
  },
  {
   "cell_type": "code",
   "execution_count": 261,
   "id": "21f1f712",
   "metadata": {},
   "outputs": [
    {
     "data": {
      "image/png": "[encoded data removed]",
      "text/plain": [
       "<Figure size 720x720 with 9 Axes>"
      ]
     },
     "metadata": {
      "needs_background": "light"
     },
     "output_type": "display_data"
    }
   ],
   "source": [
    "df.hist(column=numeric_cols, figsize=(10,10)) #her bir verinin histogramına baktık\n",
    "plt.subplots_adjust(wspace=0.5, hspace=0.5)\n",
    "plt.show()"
   ]
  },
  {
   "cell_type": "markdown",
   "id": "384e752d",
   "metadata": {},
   "source": [
    "Genelde değişkenlerin histogramlarına bakma sebebimiz, data içinde bir terslik var mı ya da outler'lar var mı bunu anlamak\n",
    "Örneğin, yaşı 1000 olan birini görseydik, burada bir sorun var derdik"
   ]
  },
  {
   "cell_type": "markdown",
   "id": "3acdb0a8",
   "metadata": {},
   "source": [
    "Kategorik Değişkenler\n",
    "ML'de kategorik değişkenler 2'ye ayrılır\n",
    "    1.Ordinal \n",
    "    2.Nominal\n",
    "   "
   ]
  },
  {
   "cell_type": "markdown",
   "id": "7bb6a295",
   "metadata": {},
   "source": [
    " Ordinal: Ordinal değişkenlerde sıra önemlidir. ('çok memnumum', 'memnumum', 'az memnumum', 'memnun değilim' gibi)\n",
    "    Nominal: Nominal değişkenlerde sıra önemli değildir('mavi', 'yeşil', 'kırmızı' gibi)\n",
    "    Ordinal Değişkenler:\n",
    "        poutcome\n",
    "       "
   ]
  },
  {
   "cell_type": "code",
   "execution_count": 262,
   "id": "b32ee600",
   "metadata": {
    "scrolled": true
   },
   "outputs": [
    {
     "data": {
      "text/plain": [
       "nonexistent    3523\n",
       "failure         454\n",
       "success         142\n",
       "Name: poutcome, dtype: int64"
      ]
     },
     "execution_count": 262,
     "metadata": {},
     "output_type": "execute_result"
    }
   ],
   "source": [
    "df['poutcome'].value_counts()"
   ]
  },
  {
   "cell_type": "markdown",
   "id": "2af7c371",
   "metadata": {},
   "source": [
    "'poutcome' sürunu nominal gibi duruyor\n",
    "success> nonexistent > failure\n",
    "failure=-1, nonexistent=0, and success=1"
   ]
  },
  {
   "cell_type": "code",
   "execution_count": 263,
   "id": "bddd6b95",
   "metadata": {},
   "outputs": [],
   "source": [
    "df['poutcome'] = df['poutcome'].map({'failure':-1, 'nonexistent':0, 'success':1})"
   ]
  },
  {
   "cell_type": "code",
   "execution_count": 264,
   "id": "82cbb50d",
   "metadata": {},
   "outputs": [
    {
     "data": {
      "text/plain": [
       " 0    3523\n",
       "-1     454\n",
       " 1     142\n",
       "Name: poutcome, dtype: int64"
      ]
     },
     "execution_count": 264,
     "metadata": {},
     "output_type": "execute_result"
    }
   ],
   "source": [
    "df['poutcome'].value_counts()"
   ]
  },
  {
   "cell_type": "code",
   "execution_count": 265,
   "id": "d08556f3",
   "metadata": {},
   "outputs": [
    {
     "data": {
      "text/plain": [
       "no         3315\n",
       "unknown     803\n",
       "yes           1\n",
       "Name: default, dtype: int64"
      ]
     },
     "execution_count": 265,
     "metadata": {},
     "output_type": "execute_result"
    }
   ],
   "source": [
    "df['default'].value_counts()"
   ]
  },
  {
   "cell_type": "markdown",
   "id": "e5830f4d",
   "metadata": {},
   "source": [
    "'default' sütunu da ordinal diyebiliriz. (kişinin hali hazırda kredisi var mı )\n",
    "mevcutta kredisi olmaması iyi\n",
    "no=1, unknown=0, yes=-1"
   ]
  },
  {
   "cell_type": "code",
   "execution_count": 266,
   "id": "022e3845",
   "metadata": {},
   "outputs": [],
   "source": [
    "df['default'] = df['default'].map({'yes' : -1, 'unknown':0, 'no':1})"
   ]
  },
  {
   "cell_type": "code",
   "execution_count": 267,
   "id": "a7f79837",
   "metadata": {},
   "outputs": [
    {
     "data": {
      "text/plain": [
       " 1    3315\n",
       " 0     803\n",
       "-1       1\n",
       "Name: default, dtype: int64"
      ]
     },
     "execution_count": 267,
     "metadata": {},
     "output_type": "execute_result"
    }
   ],
   "source": [
    "df['default'].value_counts()"
   ]
  },
  {
   "cell_type": "markdown",
   "id": "ecdd4853",
   "metadata": {},
   "source": [
    "**housing, loan**\n",
    "'housing' --> mevcut ev kredisi var mı ?\n",
    "'loan' --> borcu var mı ?\n",
    "Bunlar da default gibi\n",
    "mevcutta kredisi olmaması iyi\n",
    "no=1, unknown=0, yes=-1"
   ]
  },
  {
   "cell_type": "code",
   "execution_count": 268,
   "id": "239193bb",
   "metadata": {},
   "outputs": [],
   "source": [
    "df['housing'] = df['housing'].map({'yes' : -1, 'unknown':0, 'no':1})\n",
    "df['loan'] = df['loan'].map({'yes' : -1, 'unknown':0, 'no':1})"
   ]
  },
  {
   "cell_type": "markdown",
   "id": "ba940c69",
   "metadata": {},
   "source": [
    "**Nominal Değişkenler**\n",
    "\"poutcome\", \"default\", \"housing\", \"loan\" dışındakilere Nominal diyebiliriz\n",
    "Bunlarda sıranın bir önemi yok\n",
    "Bunlar için **one-hot-encoding** kullanacağız. (Kategorik veriler için)"
   ]
  },
  {
   "cell_type": "code",
   "execution_count": 269,
   "id": "09e6b9c5",
   "metadata": {},
   "outputs": [
    {
     "data": {
      "text/plain": [
       "Index(['job', 'marital', 'education', 'default', 'housing', 'loan', 'contact',\n",
       "       'month', 'day_of_week', 'poutcome', 'y'],\n",
       "      dtype='object')"
      ]
     },
     "execution_count": 269,
     "metadata": {},
     "output_type": "execute_result"
    }
   ],
   "source": [
    "cat_cols"
   ]
  },
  {
   "cell_type": "code",
   "execution_count": 270,
   "id": "07c2c68e",
   "metadata": {},
   "outputs": [],
   "source": [
    "nominal = ['job', 'marital', 'education', 'contact','month', 'day_of_week']"
   ]
  },
  {
   "cell_type": "code",
   "execution_count": 271,
   "id": "10158c4c",
   "metadata": {},
   "outputs": [
    {
     "data": {
      "text/plain": [
       "(4119, 20)"
      ]
     },
     "execution_count": 271,
     "metadata": {},
     "output_type": "execute_result"
    }
   ],
   "source": [
    "#one-hot-encoding yapmadan önce df'in şekli\n",
    "df.shape"
   ]
  },
  {
   "cell_type": "code",
   "execution_count": 272,
   "id": "890d4700",
   "metadata": {},
   "outputs": [
    {
     "data": {
      "text/plain": [
       "Index(['age', 'job', 'marital', 'education', 'default', 'housing', 'loan',\n",
       "       'contact', 'month', 'day_of_week', 'campaign', 'pdays', 'previous',\n",
       "       'poutcome', 'emp.var.rate', 'cons.price.idx', 'cons.conf.idx',\n",
       "       'euribor3m', 'nr.employed', 'y'],\n",
       "      dtype='object')"
      ]
     },
     "execution_count": 272,
     "metadata": {},
     "output_type": "execute_result"
    }
   ],
   "source": [
    "df.columns"
   ]
  },
  {
   "cell_type": "code",
   "execution_count": 273,
   "id": "712b69a6",
   "metadata": {},
   "outputs": [],
   "source": [
    "df = pd.get_dummies(df,columns=nominal)"
   ]
  },
  {
   "cell_type": "code",
   "execution_count": 274,
   "id": "cebe6cd6",
   "metadata": {},
   "outputs": [
    {
     "data": {
      "text/plain": [
       "(4119, 55)"
      ]
     },
     "execution_count": 274,
     "metadata": {},
     "output_type": "execute_result"
    }
   ],
   "source": [
    "#one-hot sonrası\n",
    "df.shape"
   ]
  },
  {
   "cell_type": "code",
   "execution_count": 275,
   "id": "6d5076bd",
   "metadata": {},
   "outputs": [
    {
     "data": {
      "text/plain": [
       "Index(['age', 'default', 'housing', 'loan', 'campaign', 'pdays', 'previous',\n",
       "       'poutcome', 'emp.var.rate', 'cons.price.idx', 'cons.conf.idx',\n",
       "       'euribor3m', 'nr.employed', 'y', 'job_admin.', 'job_blue-collar',\n",
       "       'job_entrepreneur', 'job_housemaid', 'job_management', 'job_retired',\n",
       "       'job_self-employed', 'job_services', 'job_student', 'job_technician',\n",
       "       'job_unemployed', 'job_unknown', 'marital_divorced', 'marital_married',\n",
       "       'marital_single', 'marital_unknown', 'education_basic.4y',\n",
       "       'education_basic.6y', 'education_basic.9y', 'education_high.school',\n",
       "       'education_illiterate', 'education_professional.course',\n",
       "       'education_university.degree', 'education_unknown', 'contact_cellular',\n",
       "       'contact_telephone', 'month_apr', 'month_aug', 'month_dec', 'month_jul',\n",
       "       'month_jun', 'month_mar', 'month_may', 'month_nov', 'month_oct',\n",
       "       'month_sep', 'day_of_week_fri', 'day_of_week_mon', 'day_of_week_thu',\n",
       "       'day_of_week_tue', 'day_of_week_wed'],\n",
       "      dtype='object')"
      ]
     },
     "execution_count": 275,
     "metadata": {},
     "output_type": "execute_result"
    }
   ],
   "source": [
    "df.columns"
   ]
  },
  {
   "cell_type": "markdown",
   "id": "5011c3a4",
   "metadata": {},
   "source": [
    "**y**\n"
   ]
  },
  {
   "cell_type": "markdown",
   "id": "7fcdc0fd",
   "metadata": {},
   "source": [
    "Son olarak target variable **y**'yi encode edelim: "
   ]
  },
  {
   "cell_type": "code",
   "execution_count": 276,
   "id": "8b96d39a",
   "metadata": {},
   "outputs": [
    {
     "data": {
      "text/html": [
       "<div>\n",
       "<style scoped>\n",
       "    .dataframe tbody tr th:only-of-type {\n",
       "        vertical-align: middle;\n",
       "    }\n",
       "\n",
       "    .dataframe tbody tr th {\n",
       "        vertical-align: top;\n",
       "    }\n",
       "\n",
       "    .dataframe thead th {\n",
       "        text-align: right;\n",
       "    }\n",
       "</style>\n",
       "<table border=\"1\" class=\"dataframe\">\n",
       "  <thead>\n",
       "    <tr style=\"text-align: right;\">\n",
       "      <th></th>\n",
       "      <th>age</th>\n",
       "      <th>default</th>\n",
       "      <th>housing</th>\n",
       "      <th>loan</th>\n",
       "      <th>campaign</th>\n",
       "      <th>pdays</th>\n",
       "      <th>previous</th>\n",
       "      <th>poutcome</th>\n",
       "      <th>emp.var.rate</th>\n",
       "      <th>cons.price.idx</th>\n",
       "      <th>...</th>\n",
       "      <th>month_mar</th>\n",
       "      <th>month_may</th>\n",
       "      <th>month_nov</th>\n",
       "      <th>month_oct</th>\n",
       "      <th>month_sep</th>\n",
       "      <th>day_of_week_fri</th>\n",
       "      <th>day_of_week_mon</th>\n",
       "      <th>day_of_week_thu</th>\n",
       "      <th>day_of_week_tue</th>\n",
       "      <th>day_of_week_wed</th>\n",
       "    </tr>\n",
       "  </thead>\n",
       "  <tbody>\n",
       "    <tr>\n",
       "      <th>0</th>\n",
       "      <td>30</td>\n",
       "      <td>1</td>\n",
       "      <td>-1</td>\n",
       "      <td>1</td>\n",
       "      <td>2</td>\n",
       "      <td>999</td>\n",
       "      <td>0</td>\n",
       "      <td>0</td>\n",
       "      <td>-1.8</td>\n",
       "      <td>92.893</td>\n",
       "      <td>...</td>\n",
       "      <td>0</td>\n",
       "      <td>1</td>\n",
       "      <td>0</td>\n",
       "      <td>0</td>\n",
       "      <td>0</td>\n",
       "      <td>1</td>\n",
       "      <td>0</td>\n",
       "      <td>0</td>\n",
       "      <td>0</td>\n",
       "      <td>0</td>\n",
       "    </tr>\n",
       "    <tr>\n",
       "      <th>1</th>\n",
       "      <td>39</td>\n",
       "      <td>1</td>\n",
       "      <td>1</td>\n",
       "      <td>1</td>\n",
       "      <td>4</td>\n",
       "      <td>999</td>\n",
       "      <td>0</td>\n",
       "      <td>0</td>\n",
       "      <td>1.1</td>\n",
       "      <td>93.994</td>\n",
       "      <td>...</td>\n",
       "      <td>0</td>\n",
       "      <td>1</td>\n",
       "      <td>0</td>\n",
       "      <td>0</td>\n",
       "      <td>0</td>\n",
       "      <td>1</td>\n",
       "      <td>0</td>\n",
       "      <td>0</td>\n",
       "      <td>0</td>\n",
       "      <td>0</td>\n",
       "    </tr>\n",
       "    <tr>\n",
       "      <th>2</th>\n",
       "      <td>25</td>\n",
       "      <td>1</td>\n",
       "      <td>-1</td>\n",
       "      <td>1</td>\n",
       "      <td>1</td>\n",
       "      <td>999</td>\n",
       "      <td>0</td>\n",
       "      <td>0</td>\n",
       "      <td>1.4</td>\n",
       "      <td>94.465</td>\n",
       "      <td>...</td>\n",
       "      <td>0</td>\n",
       "      <td>0</td>\n",
       "      <td>0</td>\n",
       "      <td>0</td>\n",
       "      <td>0</td>\n",
       "      <td>0</td>\n",
       "      <td>0</td>\n",
       "      <td>0</td>\n",
       "      <td>0</td>\n",
       "      <td>1</td>\n",
       "    </tr>\n",
       "    <tr>\n",
       "      <th>3</th>\n",
       "      <td>38</td>\n",
       "      <td>1</td>\n",
       "      <td>0</td>\n",
       "      <td>0</td>\n",
       "      <td>3</td>\n",
       "      <td>999</td>\n",
       "      <td>0</td>\n",
       "      <td>0</td>\n",
       "      <td>1.4</td>\n",
       "      <td>94.465</td>\n",
       "      <td>...</td>\n",
       "      <td>0</td>\n",
       "      <td>0</td>\n",
       "      <td>0</td>\n",
       "      <td>0</td>\n",
       "      <td>0</td>\n",
       "      <td>1</td>\n",
       "      <td>0</td>\n",
       "      <td>0</td>\n",
       "      <td>0</td>\n",
       "      <td>0</td>\n",
       "    </tr>\n",
       "    <tr>\n",
       "      <th>4</th>\n",
       "      <td>47</td>\n",
       "      <td>1</td>\n",
       "      <td>-1</td>\n",
       "      <td>1</td>\n",
       "      <td>1</td>\n",
       "      <td>999</td>\n",
       "      <td>0</td>\n",
       "      <td>0</td>\n",
       "      <td>-0.1</td>\n",
       "      <td>93.200</td>\n",
       "      <td>...</td>\n",
       "      <td>0</td>\n",
       "      <td>0</td>\n",
       "      <td>1</td>\n",
       "      <td>0</td>\n",
       "      <td>0</td>\n",
       "      <td>0</td>\n",
       "      <td>1</td>\n",
       "      <td>0</td>\n",
       "      <td>0</td>\n",
       "      <td>0</td>\n",
       "    </tr>\n",
       "  </tbody>\n",
       "</table>\n",
       "<p>5 rows × 55 columns</p>\n",
       "</div>"
      ],
      "text/plain": [
       "   age  default  housing  loan  campaign  pdays  previous  poutcome  \\\n",
       "0   30        1       -1     1         2    999         0         0   \n",
       "1   39        1        1     1         4    999         0         0   \n",
       "2   25        1       -1     1         1    999         0         0   \n",
       "3   38        1        0     0         3    999         0         0   \n",
       "4   47        1       -1     1         1    999         0         0   \n",
       "\n",
       "   emp.var.rate  cons.price.idx  ...  month_mar  month_may  month_nov  \\\n",
       "0          -1.8          92.893  ...          0          1          0   \n",
       "1           1.1          93.994  ...          0          1          0   \n",
       "2           1.4          94.465  ...          0          0          0   \n",
       "3           1.4          94.465  ...          0          0          0   \n",
       "4          -0.1          93.200  ...          0          0          1   \n",
       "\n",
       "   month_oct  month_sep  day_of_week_fri  day_of_week_mon  day_of_week_thu  \\\n",
       "0          0          0                1                0                0   \n",
       "1          0          0                1                0                0   \n",
       "2          0          0                0                0                0   \n",
       "3          0          0                1                0                0   \n",
       "4          0          0                0                1                0   \n",
       "\n",
       "   day_of_week_tue  day_of_week_wed  \n",
       "0                0                0  \n",
       "1                0                0  \n",
       "2                0                1  \n",
       "3                0                0  \n",
       "4                0                0  \n",
       "\n",
       "[5 rows x 55 columns]"
      ]
     },
     "execution_count": 276,
     "metadata": {},
     "output_type": "execute_result"
    }
   ],
   "source": [
    "df['y'] = df['y'].map({'yes':1, 'no':0}) #map--> Pandas'taki DataFrame'in fonksiyonu\n",
    "df.head()\n",
    "#df['y'].head(10) #y deki ilk 10 değeri al"
   ]
  },
  {
   "cell_type": "markdown",
   "id": "1dbf8d38",
   "metadata": {},
   "source": [
    "**5)FEATURE VECTOR & TARGET VARIABLE**"
   ]
  },
  {
   "cell_type": "code",
   "execution_count": 277,
   "id": "1a0a55fd",
   "metadata": {},
   "outputs": [],
   "source": [
    "X = df.drop(['y'], axis=1)\n",
    " \n",
    "y = df['y']"
   ]
  },
  {
   "cell_type": "code",
   "execution_count": 278,
   "id": "675f9ccb",
   "metadata": {},
   "outputs": [
    {
     "data": {
      "text/plain": [
       "(4119, 54)"
      ]
     },
     "execution_count": 278,
     "metadata": {},
     "output_type": "execute_result"
    }
   ],
   "source": [
    "X.shape"
   ]
  },
  {
   "cell_type": "code",
   "execution_count": 279,
   "id": "75a11834",
   "metadata": {},
   "outputs": [
    {
     "data": {
      "text/plain": [
       "(4119,)"
      ]
     },
     "execution_count": 279,
     "metadata": {},
     "output_type": "execute_result"
    }
   ],
   "source": [
    "y.shape"
   ]
  },
  {
   "cell_type": "markdown",
   "id": "03471166",
   "metadata": {},
   "source": [
    "**6) TRAIN-TEST SPLIT**"
   ]
  },
  {
   "cell_type": "code",
   "execution_count": 280,
   "id": "93c35cdc",
   "metadata": {},
   "outputs": [],
   "source": [
    "from sklearn.model_selection import train_test_split\n",
    "\n",
    "X_train, X_test, y_train, y_test = train_test_split(X, y, test_size=0.2, random_state=0)"
   ]
  },
  {
   "cell_type": "code",
   "execution_count": 281,
   "id": "a1b0a128",
   "metadata": {},
   "outputs": [
    {
     "data": {
      "text/plain": [
       "((3295, 54), (824, 54))"
      ]
     },
     "execution_count": 281,
     "metadata": {},
     "output_type": "execute_result"
    }
   ],
   "source": [
    "#X_train ve X_test şekilleri\n",
    "\n",
    "X_train.shape, X_test.shape"
   ]
  },
  {
   "cell_type": "markdown",
   "id": "50b65937",
   "metadata": {},
   "source": [
    "**7) FEATURE SCALING**\n",
    "\n",
    "YSA, KNN, SVM ' de Scaling çok önemli\n",
    "Karar Ağaçlarında şart değil, isterseniz yapabilirsiniz"
   ]
  },
  {
   "cell_type": "code",
   "execution_count": 282,
   "id": "0c2b43c2",
   "metadata": {},
   "outputs": [],
   "source": [
    "#X_train sütunlarını tut\n",
    "\n",
    "cols = X_train.columns"
   ]
  },
  {
   "cell_type": "markdown",
   "id": "4d7fa754",
   "metadata": {},
   "source": [
    "Nümerik sütunlar için Feature Scaling yapmamız lazım"
   ]
  },
  {
   "cell_type": "code",
   "execution_count": 283,
   "id": "a1a15062",
   "metadata": {},
   "outputs": [
    {
     "data": {
      "text/html": [
       "<div>\n",
       "<style scoped>\n",
       "    .dataframe tbody tr th:only-of-type {\n",
       "        vertical-align: middle;\n",
       "    }\n",
       "\n",
       "    .dataframe tbody tr th {\n",
       "        vertical-align: top;\n",
       "    }\n",
       "\n",
       "    .dataframe thead th {\n",
       "        text-align: right;\n",
       "    }\n",
       "</style>\n",
       "<table border=\"1\" class=\"dataframe\">\n",
       "  <thead>\n",
       "    <tr style=\"text-align: right;\">\n",
       "      <th></th>\n",
       "      <th>age</th>\n",
       "      <th>campaign</th>\n",
       "      <th>pdays</th>\n",
       "      <th>previous</th>\n",
       "      <th>emp.var.rate</th>\n",
       "      <th>cons.price.idx</th>\n",
       "      <th>cons.conf.idx</th>\n",
       "      <th>euribor3m</th>\n",
       "      <th>nr.employed</th>\n",
       "    </tr>\n",
       "  </thead>\n",
       "  <tbody>\n",
       "    <tr>\n",
       "      <th>3199</th>\n",
       "      <td>30</td>\n",
       "      <td>2</td>\n",
       "      <td>999</td>\n",
       "      <td>0</td>\n",
       "      <td>1.1</td>\n",
       "      <td>93.994</td>\n",
       "      <td>-36.4</td>\n",
       "      <td>4.856</td>\n",
       "      <td>5191.0</td>\n",
       "    </tr>\n",
       "    <tr>\n",
       "      <th>3258</th>\n",
       "      <td>42</td>\n",
       "      <td>2</td>\n",
       "      <td>999</td>\n",
       "      <td>0</td>\n",
       "      <td>1.4</td>\n",
       "      <td>93.444</td>\n",
       "      <td>-36.1</td>\n",
       "      <td>4.968</td>\n",
       "      <td>5228.1</td>\n",
       "    </tr>\n",
       "    <tr>\n",
       "      <th>3153</th>\n",
       "      <td>48</td>\n",
       "      <td>1</td>\n",
       "      <td>999</td>\n",
       "      <td>0</td>\n",
       "      <td>-0.1</td>\n",
       "      <td>93.200</td>\n",
       "      <td>-42.0</td>\n",
       "      <td>4.191</td>\n",
       "      <td>5195.8</td>\n",
       "    </tr>\n",
       "    <tr>\n",
       "      <th>399</th>\n",
       "      <td>30</td>\n",
       "      <td>2</td>\n",
       "      <td>999</td>\n",
       "      <td>1</td>\n",
       "      <td>-0.1</td>\n",
       "      <td>93.200</td>\n",
       "      <td>-42.0</td>\n",
       "      <td>4.021</td>\n",
       "      <td>5195.8</td>\n",
       "    </tr>\n",
       "    <tr>\n",
       "      <th>1410</th>\n",
       "      <td>28</td>\n",
       "      <td>1</td>\n",
       "      <td>999</td>\n",
       "      <td>0</td>\n",
       "      <td>-1.8</td>\n",
       "      <td>92.893</td>\n",
       "      <td>-46.2</td>\n",
       "      <td>1.291</td>\n",
       "      <td>5099.1</td>\n",
       "    </tr>\n",
       "    <tr>\n",
       "      <th>...</th>\n",
       "      <td>...</td>\n",
       "      <td>...</td>\n",
       "      <td>...</td>\n",
       "      <td>...</td>\n",
       "      <td>...</td>\n",
       "      <td>...</td>\n",
       "      <td>...</td>\n",
       "      <td>...</td>\n",
       "      <td>...</td>\n",
       "    </tr>\n",
       "    <tr>\n",
       "      <th>1033</th>\n",
       "      <td>50</td>\n",
       "      <td>17</td>\n",
       "      <td>999</td>\n",
       "      <td>0</td>\n",
       "      <td>1.4</td>\n",
       "      <td>94.465</td>\n",
       "      <td>-41.8</td>\n",
       "      <td>4.961</td>\n",
       "      <td>5228.1</td>\n",
       "    </tr>\n",
       "    <tr>\n",
       "      <th>3264</th>\n",
       "      <td>45</td>\n",
       "      <td>3</td>\n",
       "      <td>999</td>\n",
       "      <td>0</td>\n",
       "      <td>1.4</td>\n",
       "      <td>93.918</td>\n",
       "      <td>-42.7</td>\n",
       "      <td>4.961</td>\n",
       "      <td>5228.1</td>\n",
       "    </tr>\n",
       "    <tr>\n",
       "      <th>1653</th>\n",
       "      <td>27</td>\n",
       "      <td>2</td>\n",
       "      <td>999</td>\n",
       "      <td>0</td>\n",
       "      <td>-2.9</td>\n",
       "      <td>92.201</td>\n",
       "      <td>-31.4</td>\n",
       "      <td>0.879</td>\n",
       "      <td>5076.2</td>\n",
       "    </tr>\n",
       "    <tr>\n",
       "      <th>2607</th>\n",
       "      <td>56</td>\n",
       "      <td>3</td>\n",
       "      <td>999</td>\n",
       "      <td>0</td>\n",
       "      <td>1.4</td>\n",
       "      <td>93.918</td>\n",
       "      <td>-42.7</td>\n",
       "      <td>4.962</td>\n",
       "      <td>5228.1</td>\n",
       "    </tr>\n",
       "    <tr>\n",
       "      <th>2732</th>\n",
       "      <td>32</td>\n",
       "      <td>4</td>\n",
       "      <td>999</td>\n",
       "      <td>0</td>\n",
       "      <td>1.4</td>\n",
       "      <td>93.444</td>\n",
       "      <td>-36.1</td>\n",
       "      <td>4.966</td>\n",
       "      <td>5228.1</td>\n",
       "    </tr>\n",
       "  </tbody>\n",
       "</table>\n",
       "<p>3295 rows × 9 columns</p>\n",
       "</div>"
      ],
      "text/plain": [
       "      age  campaign  pdays  previous  emp.var.rate  cons.price.idx  \\\n",
       "3199   30         2    999         0           1.1          93.994   \n",
       "3258   42         2    999         0           1.4          93.444   \n",
       "3153   48         1    999         0          -0.1          93.200   \n",
       "399    30         2    999         1          -0.1          93.200   \n",
       "1410   28         1    999         0          -1.8          92.893   \n",
       "...   ...       ...    ...       ...           ...             ...   \n",
       "1033   50        17    999         0           1.4          94.465   \n",
       "3264   45         3    999         0           1.4          93.918   \n",
       "1653   27         2    999         0          -2.9          92.201   \n",
       "2607   56         3    999         0           1.4          93.918   \n",
       "2732   32         4    999         0           1.4          93.444   \n",
       "\n",
       "      cons.conf.idx  euribor3m  nr.employed  \n",
       "3199          -36.4      4.856       5191.0  \n",
       "3258          -36.1      4.968       5228.1  \n",
       "3153          -42.0      4.191       5195.8  \n",
       "399           -42.0      4.021       5195.8  \n",
       "1410          -46.2      1.291       5099.1  \n",
       "...             ...        ...          ...  \n",
       "1033          -41.8      4.961       5228.1  \n",
       "3264          -42.7      4.961       5228.1  \n",
       "1653          -31.4      0.879       5076.2  \n",
       "2607          -42.7      4.962       5228.1  \n",
       "2732          -36.1      4.966       5228.1  \n",
       "\n",
       "[3295 rows x 9 columns]"
      ]
     },
     "execution_count": 283,
     "metadata": {},
     "output_type": "execute_result"
    }
   ],
   "source": [
    "#veriler\n",
    "\n",
    "X_train[numeric_cols]"
   ]
  },
  {
   "cell_type": "markdown",
   "id": "5a3ae8a9",
   "metadata": {},
   "source": [
    "Görüldüğü gibi nümerik sütunların şekilleri oldukça farklı\n"
   ]
  },
  {
   "cell_type": "markdown",
   "id": "27876b24",
   "metadata": {},
   "source": [
    "Eğer Scale yapmazsak yanlış sonuçlara varabiliriz"
   ]
  },
  {
   "cell_type": "markdown",
   "id": "1400d62b",
   "metadata": {},
   "source": [
    "X_train üzerinde StandardScaler'ı eğiteceğiz"
   ]
  },
  {
   "cell_type": "markdown",
   "id": "2f6a1393",
   "metadata": {},
   "source": [
    "Hem X_train hem de X_test'i aynı şekilde Scale edeceğiz"
   ]
  },
  {
   "cell_type": "code",
   "execution_count": 284,
   "id": "346346c7",
   "metadata": {},
   "outputs": [],
   "source": [
    "#StandartScaler yarat\n",
    "\n",
    "from sklearn.preprocessing import StandardScaler\n",
    "\n",
    "scaler = StandardScaler()\n",
    "\n",
    "#X_train üzerinde fit ve transform yap\n",
    "X_train = scaler.fit_transform(X_train)\n",
    "\n",
    "#X_test'i transform yap\n",
    "X_test = scaler.transform(X_test)"
   ]
  },
  {
   "cell_type": "code",
   "execution_count": 285,
   "id": "003d7ae0",
   "metadata": {},
   "outputs": [
    {
     "data": {
      "text/plain": [
       "numpy.ndarray"
      ]
     },
     "execution_count": 285,
     "metadata": {},
     "output_type": "execute_result"
    }
   ],
   "source": [
    "#StandardScaler transform sonrası veri yapıları değişir\n",
    "\n",
    "type(X_train)"
   ]
  },
  {
   "cell_type": "code",
   "execution_count": 286,
   "id": "457c92d6",
   "metadata": {},
   "outputs": [],
   "source": [
    "#geri pandas.DataFrame'e çevirmemiz lazım\n",
    "X_train = pd.DataFrame(X_train, columns=[cols])\n",
    "X_test = pd.DataFrame(X_test, columns=[cols])"
   ]
  },
  {
   "cell_type": "code",
   "execution_count": 287,
   "id": "c8cc4e59",
   "metadata": {},
   "outputs": [
    {
     "data": {
      "text/html": [
       "<div>\n",
       "<style scoped>\n",
       "    .dataframe tbody tr th:only-of-type {\n",
       "        vertical-align: middle;\n",
       "    }\n",
       "\n",
       "    .dataframe tbody tr th {\n",
       "        vertical-align: top;\n",
       "    }\n",
       "\n",
       "    .dataframe thead tr th {\n",
       "        text-align: left;\n",
       "    }\n",
       "</style>\n",
       "<table border=\"1\" class=\"dataframe\">\n",
       "  <thead>\n",
       "    <tr>\n",
       "      <th></th>\n",
       "      <th>age</th>\n",
       "      <th>default</th>\n",
       "      <th>housing</th>\n",
       "      <th>loan</th>\n",
       "      <th>campaign</th>\n",
       "      <th>pdays</th>\n",
       "      <th>previous</th>\n",
       "      <th>poutcome</th>\n",
       "      <th>emp.var.rate</th>\n",
       "      <th>cons.price.idx</th>\n",
       "      <th>...</th>\n",
       "      <th>month_mar</th>\n",
       "      <th>month_may</th>\n",
       "      <th>month_nov</th>\n",
       "      <th>month_oct</th>\n",
       "      <th>month_sep</th>\n",
       "      <th>day_of_week_fri</th>\n",
       "      <th>day_of_week_mon</th>\n",
       "      <th>day_of_week_thu</th>\n",
       "      <th>day_of_week_tue</th>\n",
       "      <th>day_of_week_wed</th>\n",
       "    </tr>\n",
       "  </thead>\n",
       "  <tbody>\n",
       "    <tr>\n",
       "      <th>0</th>\n",
       "      <td>-0.977249</td>\n",
       "      <td>0.491928</td>\n",
       "      <td>-0.917247</td>\n",
       "      <td>0.464636</td>\n",
       "      <td>-0.195607</td>\n",
       "      <td>0.204284</td>\n",
       "      <td>-0.356918</td>\n",
       "      <td>0.200672</td>\n",
       "      <td>0.656694</td>\n",
       "      <td>0.724940</td>\n",
       "      <td>...</td>\n",
       "      <td>-0.109444</td>\n",
       "      <td>1.418409</td>\n",
       "      <td>-0.355121</td>\n",
       "      <td>-0.12413</td>\n",
       "      <td>-0.126628</td>\n",
       "      <td>-0.475204</td>\n",
       "      <td>-0.514189</td>\n",
       "      <td>-0.510412</td>\n",
       "      <td>1.951978</td>\n",
       "      <td>-0.487638</td>\n",
       "    </tr>\n",
       "    <tr>\n",
       "      <th>1</th>\n",
       "      <td>0.179962</td>\n",
       "      <td>0.491928</td>\n",
       "      <td>-0.917247</td>\n",
       "      <td>0.464636</td>\n",
       "      <td>-0.195607</td>\n",
       "      <td>0.204284</td>\n",
       "      <td>-0.356918</td>\n",
       "      <td>0.200672</td>\n",
       "      <td>0.848657</td>\n",
       "      <td>-0.225414</td>\n",
       "      <td>...</td>\n",
       "      <td>-0.109444</td>\n",
       "      <td>-0.705015</td>\n",
       "      <td>-0.355121</td>\n",
       "      <td>-0.12413</td>\n",
       "      <td>-0.126628</td>\n",
       "      <td>-0.475204</td>\n",
       "      <td>-0.514189</td>\n",
       "      <td>-0.510412</td>\n",
       "      <td>1.951978</td>\n",
       "      <td>-0.487638</td>\n",
       "    </tr>\n",
       "    <tr>\n",
       "      <th>2</th>\n",
       "      <td>0.758567</td>\n",
       "      <td>0.491928</td>\n",
       "      <td>-0.917247</td>\n",
       "      <td>0.464636</td>\n",
       "      <td>-0.587892</td>\n",
       "      <td>0.204284</td>\n",
       "      <td>-0.356918</td>\n",
       "      <td>0.200672</td>\n",
       "      <td>-0.111158</td>\n",
       "      <td>-0.647026</td>\n",
       "      <td>...</td>\n",
       "      <td>-0.109444</td>\n",
       "      <td>-0.705015</td>\n",
       "      <td>2.815944</td>\n",
       "      <td>-0.12413</td>\n",
       "      <td>-0.126628</td>\n",
       "      <td>-0.475204</td>\n",
       "      <td>1.944812</td>\n",
       "      <td>-0.510412</td>\n",
       "      <td>-0.512301</td>\n",
       "      <td>-0.487638</td>\n",
       "    </tr>\n",
       "    <tr>\n",
       "      <th>3</th>\n",
       "      <td>-0.977249</td>\n",
       "      <td>0.491928</td>\n",
       "      <td>1.118677</td>\n",
       "      <td>0.464636</td>\n",
       "      <td>-0.195607</td>\n",
       "      <td>0.204284</td>\n",
       "      <td>1.495123</td>\n",
       "      <td>-2.444187</td>\n",
       "      <td>-0.111158</td>\n",
       "      <td>-0.647026</td>\n",
       "      <td>...</td>\n",
       "      <td>-0.109444</td>\n",
       "      <td>-0.705015</td>\n",
       "      <td>2.815944</td>\n",
       "      <td>-0.12413</td>\n",
       "      <td>-0.126628</td>\n",
       "      <td>2.104361</td>\n",
       "      <td>-0.514189</td>\n",
       "      <td>-0.510412</td>\n",
       "      <td>-0.512301</td>\n",
       "      <td>-0.487638</td>\n",
       "    </tr>\n",
       "    <tr>\n",
       "      <th>4</th>\n",
       "      <td>-1.170117</td>\n",
       "      <td>0.491928</td>\n",
       "      <td>1.118677</td>\n",
       "      <td>0.464636</td>\n",
       "      <td>-0.587892</td>\n",
       "      <td>0.204284</td>\n",
       "      <td>-0.356918</td>\n",
       "      <td>0.200672</td>\n",
       "      <td>-1.198948</td>\n",
       "      <td>-1.177496</td>\n",
       "      <td>...</td>\n",
       "      <td>-0.109444</td>\n",
       "      <td>1.418409</td>\n",
       "      <td>-0.355121</td>\n",
       "      <td>-0.12413</td>\n",
       "      <td>-0.126628</td>\n",
       "      <td>-0.475204</td>\n",
       "      <td>-0.514189</td>\n",
       "      <td>-0.510412</td>\n",
       "      <td>1.951978</td>\n",
       "      <td>-0.487638</td>\n",
       "    </tr>\n",
       "    <tr>\n",
       "      <th>...</th>\n",
       "      <td>...</td>\n",
       "      <td>...</td>\n",
       "      <td>...</td>\n",
       "      <td>...</td>\n",
       "      <td>...</td>\n",
       "      <td>...</td>\n",
       "      <td>...</td>\n",
       "      <td>...</td>\n",
       "      <td>...</td>\n",
       "      <td>...</td>\n",
       "      <td>...</td>\n",
       "      <td>...</td>\n",
       "      <td>...</td>\n",
       "      <td>...</td>\n",
       "      <td>...</td>\n",
       "      <td>...</td>\n",
       "      <td>...</td>\n",
       "      <td>...</td>\n",
       "      <td>...</td>\n",
       "      <td>...</td>\n",
       "      <td>...</td>\n",
       "    </tr>\n",
       "    <tr>\n",
       "      <th>3290</th>\n",
       "      <td>0.951435</td>\n",
       "      <td>-2.025002</td>\n",
       "      <td>1.118677</td>\n",
       "      <td>0.464636</td>\n",
       "      <td>5.688668</td>\n",
       "      <td>0.204284</td>\n",
       "      <td>-0.356918</td>\n",
       "      <td>0.200672</td>\n",
       "      <td>0.848657</td>\n",
       "      <td>1.538789</td>\n",
       "      <td>...</td>\n",
       "      <td>-0.109444</td>\n",
       "      <td>-0.705015</td>\n",
       "      <td>-0.355121</td>\n",
       "      <td>-0.12413</td>\n",
       "      <td>-0.126628</td>\n",
       "      <td>-0.475204</td>\n",
       "      <td>1.944812</td>\n",
       "      <td>-0.510412</td>\n",
       "      <td>-0.512301</td>\n",
       "      <td>-0.487638</td>\n",
       "    </tr>\n",
       "    <tr>\n",
       "      <th>3291</th>\n",
       "      <td>0.469264</td>\n",
       "      <td>-2.025002</td>\n",
       "      <td>-0.917247</td>\n",
       "      <td>-2.252268</td>\n",
       "      <td>0.196678</td>\n",
       "      <td>0.204284</td>\n",
       "      <td>-0.356918</td>\n",
       "      <td>0.200672</td>\n",
       "      <td>0.848657</td>\n",
       "      <td>0.593618</td>\n",
       "      <td>...</td>\n",
       "      <td>-0.109444</td>\n",
       "      <td>-0.705015</td>\n",
       "      <td>-0.355121</td>\n",
       "      <td>-0.12413</td>\n",
       "      <td>-0.126628</td>\n",
       "      <td>-0.475204</td>\n",
       "      <td>-0.514189</td>\n",
       "      <td>-0.510412</td>\n",
       "      <td>1.951978</td>\n",
       "      <td>-0.487638</td>\n",
       "    </tr>\n",
       "    <tr>\n",
       "      <th>3292</th>\n",
       "      <td>-1.266551</td>\n",
       "      <td>0.491928</td>\n",
       "      <td>-0.917247</td>\n",
       "      <td>0.464636</td>\n",
       "      <td>-0.195607</td>\n",
       "      <td>0.204284</td>\n",
       "      <td>-0.356918</td>\n",
       "      <td>0.200672</td>\n",
       "      <td>-1.902812</td>\n",
       "      <td>-2.373214</td>\n",
       "      <td>...</td>\n",
       "      <td>-0.109444</td>\n",
       "      <td>-0.705015</td>\n",
       "      <td>-0.355121</td>\n",
       "      <td>-0.12413</td>\n",
       "      <td>-0.126628</td>\n",
       "      <td>-0.475204</td>\n",
       "      <td>-0.514189</td>\n",
       "      <td>-0.510412</td>\n",
       "      <td>-0.512301</td>\n",
       "      <td>2.050700</td>\n",
       "    </tr>\n",
       "    <tr>\n",
       "      <th>3293</th>\n",
       "      <td>1.530041</td>\n",
       "      <td>0.491928</td>\n",
       "      <td>-0.917247</td>\n",
       "      <td>-2.252268</td>\n",
       "      <td>0.196678</td>\n",
       "      <td>0.204284</td>\n",
       "      <td>-0.356918</td>\n",
       "      <td>0.200672</td>\n",
       "      <td>0.848657</td>\n",
       "      <td>0.593618</td>\n",
       "      <td>...</td>\n",
       "      <td>-0.109444</td>\n",
       "      <td>-0.705015</td>\n",
       "      <td>-0.355121</td>\n",
       "      <td>-0.12413</td>\n",
       "      <td>-0.126628</td>\n",
       "      <td>-0.475204</td>\n",
       "      <td>1.944812</td>\n",
       "      <td>-0.510412</td>\n",
       "      <td>-0.512301</td>\n",
       "      <td>-0.487638</td>\n",
       "    </tr>\n",
       "    <tr>\n",
       "      <th>3294</th>\n",
       "      <td>-0.784380</td>\n",
       "      <td>0.491928</td>\n",
       "      <td>-0.917247</td>\n",
       "      <td>0.464636</td>\n",
       "      <td>0.588963</td>\n",
       "      <td>0.204284</td>\n",
       "      <td>-0.356918</td>\n",
       "      <td>0.200672</td>\n",
       "      <td>0.848657</td>\n",
       "      <td>-0.225414</td>\n",
       "      <td>...</td>\n",
       "      <td>-0.109444</td>\n",
       "      <td>-0.705015</td>\n",
       "      <td>-0.355121</td>\n",
       "      <td>-0.12413</td>\n",
       "      <td>-0.126628</td>\n",
       "      <td>-0.475204</td>\n",
       "      <td>-0.514189</td>\n",
       "      <td>-0.510412</td>\n",
       "      <td>1.951978</td>\n",
       "      <td>-0.487638</td>\n",
       "    </tr>\n",
       "  </tbody>\n",
       "</table>\n",
       "<p>3295 rows × 54 columns</p>\n",
       "</div>"
      ],
      "text/plain": [
       "           age   default   housing      loan  campaign     pdays  previous  \\\n",
       "0    -0.977249  0.491928 -0.917247  0.464636 -0.195607  0.204284 -0.356918   \n",
       "1     0.179962  0.491928 -0.917247  0.464636 -0.195607  0.204284 -0.356918   \n",
       "2     0.758567  0.491928 -0.917247  0.464636 -0.587892  0.204284 -0.356918   \n",
       "3    -0.977249  0.491928  1.118677  0.464636 -0.195607  0.204284  1.495123   \n",
       "4    -1.170117  0.491928  1.118677  0.464636 -0.587892  0.204284 -0.356918   \n",
       "...        ...       ...       ...       ...       ...       ...       ...   \n",
       "3290  0.951435 -2.025002  1.118677  0.464636  5.688668  0.204284 -0.356918   \n",
       "3291  0.469264 -2.025002 -0.917247 -2.252268  0.196678  0.204284 -0.356918   \n",
       "3292 -1.266551  0.491928 -0.917247  0.464636 -0.195607  0.204284 -0.356918   \n",
       "3293  1.530041  0.491928 -0.917247 -2.252268  0.196678  0.204284 -0.356918   \n",
       "3294 -0.784380  0.491928 -0.917247  0.464636  0.588963  0.204284 -0.356918   \n",
       "\n",
       "      poutcome emp.var.rate cons.price.idx  ... month_mar month_may month_nov  \\\n",
       "0     0.200672     0.656694       0.724940  ... -0.109444  1.418409 -0.355121   \n",
       "1     0.200672     0.848657      -0.225414  ... -0.109444 -0.705015 -0.355121   \n",
       "2     0.200672    -0.111158      -0.647026  ... -0.109444 -0.705015  2.815944   \n",
       "3    -2.444187    -0.111158      -0.647026  ... -0.109444 -0.705015  2.815944   \n",
       "4     0.200672    -1.198948      -1.177496  ... -0.109444  1.418409 -0.355121   \n",
       "...        ...          ...            ...  ...       ...       ...       ...   \n",
       "3290  0.200672     0.848657       1.538789  ... -0.109444 -0.705015 -0.355121   \n",
       "3291  0.200672     0.848657       0.593618  ... -0.109444 -0.705015 -0.355121   \n",
       "3292  0.200672    -1.902812      -2.373214  ... -0.109444 -0.705015 -0.355121   \n",
       "3293  0.200672     0.848657       0.593618  ... -0.109444 -0.705015 -0.355121   \n",
       "3294  0.200672     0.848657      -0.225414  ... -0.109444 -0.705015 -0.355121   \n",
       "\n",
       "     month_oct month_sep day_of_week_fri day_of_week_mon day_of_week_thu  \\\n",
       "0     -0.12413 -0.126628       -0.475204       -0.514189       -0.510412   \n",
       "1     -0.12413 -0.126628       -0.475204       -0.514189       -0.510412   \n",
       "2     -0.12413 -0.126628       -0.475204        1.944812       -0.510412   \n",
       "3     -0.12413 -0.126628        2.104361       -0.514189       -0.510412   \n",
       "4     -0.12413 -0.126628       -0.475204       -0.514189       -0.510412   \n",
       "...        ...       ...             ...             ...             ...   \n",
       "3290  -0.12413 -0.126628       -0.475204        1.944812       -0.510412   \n",
       "3291  -0.12413 -0.126628       -0.475204       -0.514189       -0.510412   \n",
       "3292  -0.12413 -0.126628       -0.475204       -0.514189       -0.510412   \n",
       "3293  -0.12413 -0.126628       -0.475204        1.944812       -0.510412   \n",
       "3294  -0.12413 -0.126628       -0.475204       -0.514189       -0.510412   \n",
       "\n",
       "     day_of_week_tue day_of_week_wed  \n",
       "0           1.951978       -0.487638  \n",
       "1           1.951978       -0.487638  \n",
       "2          -0.512301       -0.487638  \n",
       "3          -0.512301       -0.487638  \n",
       "4           1.951978       -0.487638  \n",
       "...              ...             ...  \n",
       "3290       -0.512301       -0.487638  \n",
       "3291        1.951978       -0.487638  \n",
       "3292       -0.512301        2.050700  \n",
       "3293       -0.512301       -0.487638  \n",
       "3294        1.951978       -0.487638  \n",
       "\n",
       "[3295 rows x 54 columns]"
      ]
     },
     "execution_count": 287,
     "metadata": {},
     "output_type": "execute_result"
    }
   ],
   "source": [
    "#veriler (scale edilmiş halde) --> değerler 0 ile 1 arasında veya standat sapmaya göre değişiyo\n",
    "\n",
    "X_train[cols]"
   ]
  },
  {
   "cell_type": "markdown",
   "id": "8f5af72a",
   "metadata": {},
   "source": [
    "**8)DECISION TREE CLASSIFIER (GINI INDEX İLE)**"
   ]
  },
  {
   "cell_type": "code",
   "execution_count": 288,
   "id": "7c145871",
   "metadata": {},
   "outputs": [],
   "source": [
    "#DecisionTreeClassifier class'ını import edelim\n",
    "from sklearn.tree import DecisionTreeClassifier"
   ]
  },
  {
   "cell_type": "code",
   "execution_count": 289,
   "id": "88f17bf7",
   "metadata": {},
   "outputs": [
    {
     "data": {
      "text/plain": [
       "DecisionTreeClassifier(max_depth=3, random_state=0)"
      ]
     },
     "execution_count": 289,
     "metadata": {},
     "output_type": "execute_result"
    }
   ],
   "source": [
    "#DecisionTreeClassifier modelini criterion gini index olarak instantiate edelim\n",
    "\n",
    "clf_gini = DecisionTreeClassifier(criterion='gini', max_depth=3, random_state=0)\n",
    "#criterion=gini vermek zounda değilsin, vermezsen otomatik olarak zaten gini yi alıyor\n",
    "\n",
    "#model'i fit edelim\n",
    "clf_gini.fit(X_train, y_train)"
   ]
  },
  {
   "cell_type": "markdown",
   "id": "bc5c1691",
   "metadata": {},
   "source": [
    "Gini Index kullanarak oluşturduğumuz model ile tahmin yapalım:"
   ]
  },
  {
   "cell_type": "code",
   "execution_count": 290,
   "id": "208264f8",
   "metadata": {},
   "outputs": [],
   "source": [
    "y_pred_gini = clf_gini.predict(X_test)"
   ]
  },
  {
   "cell_type": "markdown",
   "id": "2fb2af99",
   "metadata": {},
   "source": [
    "ROC-AUC skorunu kontrol edelim:"
   ]
  },
  {
   "cell_type": "code",
   "execution_count": 291,
   "id": "17713e22",
   "metadata": {},
   "outputs": [],
   "source": [
    "from sklearn.metrics import roc_auc_score"
   ]
  },
  {
   "cell_type": "code",
   "execution_count": 292,
   "id": "ef33680c",
   "metadata": {},
   "outputs": [],
   "source": [
    "y_pred_gini_skor = roc_auc_score(y_test, y_pred_gini)"
   ]
  },
  {
   "cell_type": "code",
   "execution_count": 298,
   "id": "5a4bb153",
   "metadata": {},
   "outputs": [
    {
     "name": "stdout",
     "output_type": "stream",
     "text": [
      "Modelin Gini Index ile ROC-AUC Skoru: 0.5795\n"
     ]
    }
   ],
   "source": [
    "print('Modelin Gini Index ile ROC-AUC Skoru: {0:0.4f}'. format(y_pred_gini_skor))"
   ]
  },
  {
   "cell_type": "markdown",
   "id": "f77cff2e",
   "metadata": {},
   "source": [
    "**8.1)TRAIN-SET VE TEST SET ROC-AUC değerlerini karşılaştıralım:**"
   ]
  },
  {
   "cell_type": "markdown",
   "id": "8d31e6f0",
   "metadata": {},
   "source": [
    "ROC-AUC --> Doğru çizip onun altındaki değerler"
   ]
  },
  {
   "cell_type": "code",
   "execution_count": 294,
   "id": "f4630d9c",
   "metadata": {},
   "outputs": [],
   "source": [
    "y_pred_train_gini = clf_gini.predict(X_train)"
   ]
  },
  {
   "cell_type": "code",
   "execution_count": 295,
   "id": "48a2ca80",
   "metadata": {},
   "outputs": [],
   "source": [
    "y_pred_train_gini_skor = roc_auc_score(y_train, y_pred_train_gini)"
   ]
  },
  {
   "cell_type": "code",
   "execution_count": 299,
   "id": "4d26fe1d",
   "metadata": {},
   "outputs": [
    {
     "name": "stdout",
     "output_type": "stream",
     "text": [
      "Modelin Gini Index ile ROC-AUC Skoru: 0.6085\n"
     ]
    }
   ],
   "source": [
    "print('Modelin Gini Index ile ROC-AUC Skoru: {0:0.4f}'. format(y_pred_train_gini_skor))"
   ]
  },
  {
   "cell_type": "code",
   "execution_count": 300,
   "id": "2cdc9c9f",
   "metadata": {},
   "outputs": [
    {
     "name": "stdout",
     "output_type": "stream",
     "text": [
      "Train set skoru: 0.6085\n",
      "Test set skoru: 0.5795\n"
     ]
    }
   ],
   "source": [
    "#training ve test set skorları\n",
    "\n",
    "print('Train set skoru: {:.4f}'. format(y_pred_train_gini_skor))\n",
    "print('Test set skoru: {:.4f}'. format(y_pred_gini_skor))"
   ]
  },
  {
   "cell_type": "markdown",
   "id": "4574934b",
   "metadata": {},
   "source": [
    "Görüldüğü gibi Train ve Test Data üzerinde ROC-AUC skoru çok yakın sonuç verdi (%60, %58)"
   ]
  },
  {
   "cell_type": "markdown",
   "id": "c9578fd8",
   "metadata": {},
   "source": [
    "Overfitting tehlikesi görünmüyor"
   ]
  },
  {
   "cell_type": "markdown",
   "id": "f328801f",
   "metadata": {},
   "source": [
    "Ezberlemesini ne engelledi? --> max_depth=3 verdik --> 3 e kadar dallanma olsun demeseydik overfitting olurdu"
   ]
  },
  {
   "cell_type": "markdown",
   "id": "024c4b2b",
   "metadata": {},
   "source": [
    "**8.2)DECISION TREE'Yİ GÖRSELLEŞTİRELİM**"
   ]
  },
  {
   "cell_type": "code",
   "execution_count": 303,
   "id": "b9bb6d6f",
   "metadata": {},
   "outputs": [
    {
     "data": {
      "image/png": "[encoded data removed]",
      "text/plain": [
       "<Figure size 1728x1152 with 1 Axes>"
      ]
     },
     "metadata": {
      "needs_background": "light"
     },
     "output_type": "display_data"
    }
   ],
   "source": [
    "plt.figure(figsize=(24,16))\n",
    "\n",
    "from sklearn import tree\n",
    "\n",
    "tree.plot_tree(clf_gini.fit(X_train, y_train))\n",
    "\n",
    "plt.show()"
   ]
  },
  {
   "cell_type": "markdown",
   "id": "95632bf6",
   "metadata": {},
   "source": [
    "BU ağaç görselinde gördüğümüz X[12] ifadesi dataset'in 12. kolonu(değişkeni) demek"
   ]
  },
  {
   "cell_type": "code",
   "execution_count": 304,
   "id": "6e93b703",
   "metadata": {},
   "outputs": [
    {
     "data": {
      "text/plain": [
       "Index(['age', 'default', 'housing', 'loan', 'campaign', 'pdays', 'previous',\n",
       "       'poutcome', 'emp.var.rate', 'cons.price.idx', 'cons.conf.idx',\n",
       "       'euribor3m', 'nr.employed', 'job_admin.', 'job_blue-collar',\n",
       "       'job_entrepreneur', 'job_housemaid', 'job_management', 'job_retired',\n",
       "       'job_self-employed', 'job_services', 'job_student', 'job_technician',\n",
       "       'job_unemployed', 'job_unknown', 'marital_divorced', 'marital_married',\n",
       "       'marital_single', 'marital_unknown', 'education_basic.4y',\n",
       "       'education_basic.6y', 'education_basic.9y', 'education_high.school',\n",
       "       'education_illiterate', 'education_professional.course',\n",
       "       'education_university.degree', 'education_unknown', 'contact_cellular',\n",
       "       'contact_telephone', 'month_apr', 'month_aug', 'month_dec', 'month_jul',\n",
       "       'month_jun', 'month_mar', 'month_may', 'month_nov', 'month_oct',\n",
       "       'month_sep', 'day_of_week_fri', 'day_of_week_mon', 'day_of_week_thu',\n",
       "       'day_of_week_tue', 'day_of_week_wed'],\n",
       "      dtype='object')"
      ]
     },
     "execution_count": 304,
     "metadata": {},
     "output_type": "execute_result"
    }
   ],
   "source": [
    "X.columns"
   ]
  },
  {
   "cell_type": "code",
   "execution_count": 305,
   "id": "cc473a81",
   "metadata": {},
   "outputs": [
    {
     "data": {
      "text/plain": [
       "'nr.employed'"
      ]
     },
     "execution_count": 305,
     "metadata": {},
     "output_type": "execute_result"
    }
   ],
   "source": [
    "X.columns[12]"
   ]
  },
  {
   "cell_type": "markdown",
   "id": "703b24f7",
   "metadata": {},
   "source": [
    "**9) DECISION TREE CLASSIFIER (ENTROPY İLE)**"
   ]
  },
  {
   "cell_type": "code",
   "execution_count": null,
   "id": "f2a8a2eb",
   "metadata": {},
   "outputs": [],
   "source": []
  }
 ],
 "metadata": {
  "kernelspec": {
   "display_name": "Python 3",
   "language": "python",
   "name": "python3"
  },
  "language_info": {
   "codemirror_mode": {
    "name": "ipython",
    "version": 3
   },
   "file_extension": ".py",
   "mimetype": "text/x-python",
   "name": "python",
   "nbconvert_exporter": "python",
   "pygments_lexer": "ipython3",
   "version": "3.8.8"
  }
 },
 "nbformat": 4,
 "nbformat_minor": 5
}
